{
 "cells": [
  {
   "cell_type": "code",
   "execution_count": 1,
   "id": "db6b8821",
   "metadata": {},
   "outputs": [],
   "source": [
    "import pandas as pd\n",
    "df = pd.read_csv('stock_market_data/sp500/csv/BA.csv')"
   ]
  },
  {
   "cell_type": "code",
   "execution_count": 2,
   "id": "268b6442",
   "metadata": {
    "scrolled": true
   },
   "outputs": [
    {
     "name": "stdout",
     "output_type": "stream",
     "text": [
      "<class 'pandas.core.frame.DataFrame'>\n",
      "RangeIndex: 12938 entries, 0 to 12937\n",
      "Data columns (total 7 columns):\n",
      " #   Column          Non-Null Count  Dtype  \n",
      "---  ------          --------------  -----  \n",
      " 0   Date            12938 non-null  object \n",
      " 1   Low             12938 non-null  float64\n",
      " 2   Open            12938 non-null  float64\n",
      " 3   Volume          12938 non-null  int64  \n",
      " 4   High            12938 non-null  float64\n",
      " 5   Close           12938 non-null  float64\n",
      " 6   Adjusted Close  12938 non-null  float64\n",
      "dtypes: float64(5), int64(1), object(1)\n",
      "memory usage: 707.7+ KB\n"
     ]
    }
   ],
   "source": [
    "df.info()"
   ]
  },
  {
   "cell_type": "code",
   "execution_count": 3,
   "id": "18a6e051",
   "metadata": {},
   "outputs": [],
   "source": [
    "df_metrix = df[['High', 'Low', 'Open', 'Close', 'Volume']]\n",
    "df_metrix.columns = ['high', 'low', 'open', 'close', 'volume']"
   ]
  },
  {
   "cell_type": "code",
   "execution_count": 4,
   "id": "ba4f3655",
   "metadata": {},
   "outputs": [],
   "source": [
    "# 前N天的變動量\n",
    "timeperiod=12"
   ]
  },
  {
   "cell_type": "markdown",
   "id": "e67f3990",
   "metadata": {},
   "source": [
    "# Metrix Preprocess\n",
    "https://medium.com/ai股仔/用-python-快速計算-158-種技術指標-26f9579b8f3a\n",
    "\n",
    "\n",
    "# Ta-Lib\n",
    "https://mrjbq7.github.io/ta-lib/func.html"
   ]
  },
  {
   "cell_type": "code",
   "execution_count": 5,
   "id": "6aac24c5",
   "metadata": {},
   "outputs": [],
   "source": [
    "import talib\n",
    "from talib import abstract"
   ]
  },
  {
   "cell_type": "markdown",
   "id": "235af716",
   "metadata": {},
   "source": [
    "# RSI"
   ]
  },
  {
   "cell_type": "code",
   "execution_count": 6,
   "id": "3560e2ac",
   "metadata": {},
   "outputs": [],
   "source": [
    "rsi = abstract.RSI(df.Close, timeperiod)"
   ]
  },
  {
   "cell_type": "markdown",
   "id": "3e8d677c",
   "metadata": {},
   "source": [
    "# MOM\n",
    "https://blog.csdn.net/The_Time_Runner/article/details/101512714    \n",
    "https://en.wikipedia.org/wiki/Momentum_(technical_analysis)"
   ]
  },
  {
   "cell_type": "code",
   "execution_count": 7,
   "id": "6d4c473b",
   "metadata": {},
   "outputs": [],
   "source": [
    "mom = abstract.MOM(df.Close, timeperiod)"
   ]
  },
  {
   "cell_type": "markdown",
   "id": "76c5e6d7",
   "metadata": {},
   "source": [
    "# KD"
   ]
  },
  {
   "cell_type": "code",
   "execution_count": 8,
   "id": "bd66c7ca",
   "metadata": {},
   "outputs": [],
   "source": [
    "KD = abstract.STOCH(df_metrix)"
   ]
  },
  {
   "cell_type": "markdown",
   "id": "fc0f51a5",
   "metadata": {},
   "source": [
    "# MACD "
   ]
  },
  {
   "cell_type": "code",
   "execution_count": 9,
   "id": "d377a78e",
   "metadata": {},
   "outputs": [],
   "source": [
    "MACD = abstract.MACD(df_metrix) "
   ]
  },
  {
   "cell_type": "code",
   "execution_count": 10,
   "id": "190405d2",
   "metadata": {},
   "outputs": [],
   "source": [
    "frames = [df,\n",
    "          pd.DataFrame({'rsi':rsi}), # rsi is an array\n",
    "          pd.DataFrame({'mom': mom}), # mom is also an array\n",
    "          KD, # KD is a 2-column dataframe\n",
    "          MACD] # MACD is a  3-column dataframe\n",
    "\n",
    "combined = pd.concat(frames, axis = 1)"
   ]
  },
  {
   "cell_type": "code",
   "execution_count": 11,
   "id": "78e9df25",
   "metadata": {},
   "outputs": [],
   "source": [
    "combined = combined.dropna(axis=0)"
   ]
  }
 ],
 "metadata": {
  "kernelspec": {
   "display_name": "Python 3",
   "language": "python",
   "name": "python3"
  },
  "language_info": {
   "codemirror_mode": {
    "name": "ipython",
    "version": 3
   },
   "file_extension": ".py",
   "mimetype": "text/x-python",
   "name": "python",
   "nbconvert_exporter": "python",
   "pygments_lexer": "ipython3",
   "version": "3.8.5"
  }
 },
 "nbformat": 4,
 "nbformat_minor": 5
}
