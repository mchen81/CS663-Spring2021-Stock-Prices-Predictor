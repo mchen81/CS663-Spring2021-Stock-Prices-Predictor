{
 "cells": [
  {
   "cell_type": "code",
   "execution_count": 1,
   "id": "db6b8821",
   "metadata": {},
   "outputs": [],
   "source": [
    "import pandas as pd\n",
    "df = pd.read_csv('stock_market_data/sp500/csv/GOOG.csv')"
   ]
  },
  {
   "cell_type": "code",
   "execution_count": 2,
   "id": "268b6442",
   "metadata": {
    "scrolled": true
   },
   "outputs": [
    {
     "name": "stdout",
     "output_type": "stream",
     "text": [
      "<class 'pandas.core.frame.DataFrame'>\n",
      "RangeIndex: 4194 entries, 0 to 4193\n",
      "Data columns (total 7 columns):\n",
      " #   Column          Non-Null Count  Dtype  \n",
      "---  ------          --------------  -----  \n",
      " 0   Date            4194 non-null   object \n",
      " 1   Low             4194 non-null   float64\n",
      " 2   Open            4194 non-null   float64\n",
      " 3   Volume          4194 non-null   int64  \n",
      " 4   High            4194 non-null   float64\n",
      " 5   Close           4194 non-null   float64\n",
      " 6   Adjusted Close  4194 non-null   float64\n",
      "dtypes: float64(5), int64(1), object(1)\n",
      "memory usage: 229.5+ KB\n"
     ]
    }
   ],
   "source": [
    "df.info()"
   ]
  },
  {
   "cell_type": "code",
   "execution_count": 3,
   "id": "18a6e051",
   "metadata": {},
   "outputs": [],
   "source": [
    "df_metrix = df[['High', 'Low', 'Open', 'Close', 'Volume']]\n",
    "df_metrix.columns = ['high', 'low', 'open', 'close', 'volume']"
   ]
  },
  {
   "cell_type": "code",
   "execution_count": 4,
   "id": "ba4f3655",
   "metadata": {},
   "outputs": [],
   "source": [
    "# 前N天的變動量\n",
    "timeperiod=5"
   ]
  },
  {
   "cell_type": "markdown",
   "id": "e67f3990",
   "metadata": {},
   "source": [
    "# Metrix Preprocess\n",
    "https://medium.com/ai股仔/用-python-快速計算-158-種技術指標-26f9579b8f3a\n",
    "\n",
    "\n",
    "# Ta-Lib\n",
    "https://mrjbq7.github.io/ta-lib/func.html"
   ]
  },
  {
   "cell_type": "code",
   "execution_count": 5,
   "id": "6aac24c5",
   "metadata": {},
   "outputs": [],
   "source": [
    "import talib\n",
    "from talib import abstract"
   ]
  },
  {
   "cell_type": "markdown",
   "id": "235af716",
   "metadata": {},
   "source": [
    "# RSI"
   ]
  },
  {
   "cell_type": "code",
   "execution_count": 6,
   "id": "3560e2ac",
   "metadata": {},
   "outputs": [],
   "source": [
    "RSI = abstract.RSI(df.Close, timeperiod)\n",
    "RSI = pd.DataFrame({'RSI' : RSI})"
   ]
  },
  {
   "cell_type": "markdown",
   "id": "3e8d677c",
   "metadata": {},
   "source": [
    "# MOM"
   ]
  },
  {
   "cell_type": "code",
   "execution_count": 7,
   "id": "6d4c473b",
   "metadata": {},
   "outputs": [],
   "source": [
    "MOM = abstract.MOM(df.Close, timeperiod)\n",
    "MOM = pd.DataFrame({'MOM':MOM})"
   ]
  },
  {
   "cell_type": "markdown",
   "id": "76c5e6d7",
   "metadata": {},
   "source": [
    "# KD"
   ]
  },
  {
   "cell_type": "code",
   "execution_count": 8,
   "id": "bd66c7ca",
   "metadata": {},
   "outputs": [],
   "source": [
    "KD = abstract.STOCH(df_metrix)\n",
    "KD = pd.DataFrame(KD) # KD has slowd and slowk"
   ]
  },
  {
   "cell_type": "markdown",
   "id": "fc0f51a5",
   "metadata": {},
   "source": [
    "# MACD "
   ]
  },
  {
   "cell_type": "code",
   "execution_count": 9,
   "id": "d377a78e",
   "metadata": {},
   "outputs": [],
   "source": [
    "MACD = abstract.MACD(df_metrix) \n",
    "MACD = pd.DataFrame(MACD) # MACD has its own column names"
   ]
  },
  {
   "cell_type": "markdown",
   "id": "91a294c4",
   "metadata": {},
   "source": [
    "# ADX"
   ]
  },
  {
   "cell_type": "code",
   "execution_count": 10,
   "id": "e24dbd0e",
   "metadata": {},
   "outputs": [],
   "source": [
    "ADX = abstract.ADX(df_metrix)\n",
    "ADX = pd.DataFrame({'ADX': ADX})"
   ]
  },
  {
   "cell_type": "markdown",
   "id": "2292f386",
   "metadata": {},
   "source": [
    "# Simple Moving Average"
   ]
  },
  {
   "cell_type": "code",
   "execution_count": 11,
   "id": "f11e7397",
   "metadata": {},
   "outputs": [],
   "source": [
    "SMA = abstract.SMA(df.Close)\n",
    "SMA = pd.DataFrame({'SMA': SMA})"
   ]
  },
  {
   "cell_type": "markdown",
   "id": "a20e5ab4",
   "metadata": {},
   "source": [
    "# Bollinger Bands"
   ]
  },
  {
   "cell_type": "code",
   "execution_count": 12,
   "id": "c91042d3",
   "metadata": {},
   "outputs": [],
   "source": [
    "from talib import MA_Type\n",
    "upper, middle, lower = talib.BBANDS(df.Close, matype=MA_Type.T3)\n",
    "bb_df = pd.DataFrame({ \\\n",
    "    'upper_bb' : upper,\n",
    "    'middel_bb' : middle,\n",
    "    'lower_bb' : lower})"
   ]
  },
  {
   "cell_type": "code",
   "execution_count": 13,
   "id": "190405d2",
   "metadata": {},
   "outputs": [],
   "source": [
    "frames = [df,\n",
    "          RSI, \n",
    "          MOM, \n",
    "          KD, \n",
    "          MACD,\n",
    "          ADX,\n",
    "          SMA,\n",
    "          bb_df]\n",
    "\n",
    "combined = pd.concat(frames, axis = 1)"
   ]
  },
  {
   "cell_type": "markdown",
   "id": "f4f0c7c8",
   "metadata": {},
   "source": [
    "# Add target\n",
    "\n",
    "Target 為今日的收盤價格是否為過去N天的還要高，1:漲，0:跌"
   ]
  },
  {
   "cell_type": "code",
   "execution_count": 14,
   "id": "0729517e",
   "metadata": {},
   "outputs": [],
   "source": [
    "import numpy as np\n",
    "combined['week_trend'] = np.where(combined.Close.shift(-timeperiod) > combined.Close, 1, 0)\n",
    "combined = combined.dropna()"
   ]
  },
  {
   "cell_type": "markdown",
   "id": "d356fb17",
   "metadata": {},
   "source": [
    "# Date to Timestamp"
   ]
  },
  {
   "cell_type": "code",
   "execution_count": 15,
   "id": "fbcff7d3",
   "metadata": {},
   "outputs": [],
   "source": [
    "import datetime\n",
    "def date_to_day(date_str):\n",
    "    d = datetime.datetime.strptime(date_str, '%d-%m-%Y')\n",
    "    return d.timestamp()\n",
    "\n",
    "combined = combined.copy()\n",
    "combined['Date'] = combined['Date'].apply(date_to_day)"
   ]
  },
  {
   "cell_type": "markdown",
   "id": "48b5ef35",
   "metadata": {},
   "source": [
    "# Split Data\n",
    "\n",
    "Note: cannot randomly split the dataset because the order of time matters."
   ]
  },
  {
   "cell_type": "code",
   "execution_count": 16,
   "id": "5e7b96bc",
   "metadata": {},
   "outputs": [],
   "source": [
    "train_size = int(len(combined) * 0.75)\n",
    "train = combined.iloc[:train_size, :]\n",
    "test = combined.iloc[train_size:, :]"
   ]
  },
  {
   "cell_type": "code",
   "execution_count": 17,
   "id": "ee7eb11d",
   "metadata": {},
   "outputs": [],
   "source": [
    "# 訓練樣本再分成目標序列 y 以及因子矩陣 X\n",
    "train_X = train.drop('week_trend', axis = 1)\n",
    "train_y = train.week_trend\n",
    "\n",
    "# 測試樣本再分成目標序列 y 以及因子矩陣 X\n",
    "test_X = test.drop('week_trend', axis = 1)\n",
    "test_y = test.week_trend"
   ]
  },
  {
   "cell_type": "code",
   "execution_count": 18,
   "id": "5c06ec2e",
   "metadata": {},
   "outputs": [
    {
     "data": {
      "text/plain": [
       "0.5206532180595581"
      ]
     },
     "execution_count": 18,
     "metadata": {},
     "output_type": "execute_result"
    }
   ],
   "source": [
    "from sklearn.tree import DecisionTreeClassifier\n",
    "\n",
    "clf = DecisionTreeClassifier(max_depth=5)\n",
    "clf.fit(train_X, train_y)\n",
    "prediction = clf.predict(test_X)\n",
    "\n",
    "from sklearn.metrics import accuracy_score\n",
    "accuracy_score(test_y, prediction)"
   ]
  },
  {
   "cell_type": "code",
   "execution_count": 19,
   "id": "c48a7b88",
   "metadata": {},
   "outputs": [
    {
     "data": {
      "text/plain": [
       "{'Date': 2.77,\n",
       " 'Low': 0.0,\n",
       " 'Open': 0.0,\n",
       " 'Volume': 12.06,\n",
       " 'High': 15.11,\n",
       " 'Close': 0.0,\n",
       " 'Adjusted Close': 2.35,\n",
       " 'RSI': 5.84,\n",
       " 'MOM': 0.0,\n",
       " 'slowk': 0.0,\n",
       " 'slowd': 0.0,\n",
       " 'macd': 0.0,\n",
       " 'macdsignal': 16.11,\n",
       " 'macdhist': 9.53,\n",
       " 'ADX': 23.73,\n",
       " 'SMA': 4.38,\n",
       " 'upper_bb': 5.09,\n",
       " 'middel_bb': 0.0,\n",
       " 'lower_bb': 3.03}"
      ]
     },
     "execution_count": 19,
     "metadata": {},
     "output_type": "execute_result"
    }
   ],
   "source": [
    "feature_importance = dict()\n",
    "for i, c in enumerate(train_X.columns):\n",
    "    feature_importance[c] = round(clf.feature_importances_[i] * 100, 2)\n",
    "feature_importance"
   ]
  },
  {
   "cell_type": "markdown",
   "id": "bec30f95",
   "metadata": {},
   "source": [
    "# Drop unimportant features and train again"
   ]
  },
  {
   "cell_type": "code",
   "execution_count": 20,
   "id": "9aa8a0f8",
   "metadata": {},
   "outputs": [
    {
     "data": {
      "text/plain": [
       "0.5485110470701249"
      ]
     },
     "execution_count": 20,
     "metadata": {},
     "output_type": "execute_result"
    }
   ],
   "source": [
    "important_features = combined.drop(['Low', 'Open', 'High', 'Close', 'slowd', 'macd', 'SMA', 'middel_bb'], axis=1)\n",
    "train = important_features.iloc[:train_size, :]\n",
    "test = important_features.iloc[train_size:, :]\n",
    "train_X = train.drop('week_trend', axis = 1)\n",
    "train_y = train.week_trend\n",
    "test_X = test.drop('week_trend', axis = 1)\n",
    "test_y = test.week_trend\n",
    "\n",
    "clf = DecisionTreeClassifier(max_depth=6)\n",
    "clf.fit(train_X, train_y)\n",
    "prediction = clf.predict(test_X)\n",
    "accuracy_score(test_y, prediction)"
   ]
  }
 ],
 "metadata": {
  "kernelspec": {
   "display_name": "Python 3",
   "language": "python",
   "name": "python3"
  },
  "language_info": {
   "codemirror_mode": {
    "name": "ipython",
    "version": 3
   },
   "file_extension": ".py",
   "mimetype": "text/x-python",
   "name": "python",
   "nbconvert_exporter": "python",
   "pygments_lexer": "ipython3",
   "version": "3.8.5"
  }
 },
 "nbformat": 4,
 "nbformat_minor": 5
}
