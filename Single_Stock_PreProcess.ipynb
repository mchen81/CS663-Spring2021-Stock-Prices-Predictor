{
 "cells": [
  {
   "cell_type": "code",
   "execution_count": 1,
   "id": "db6b8821",
   "metadata": {},
   "outputs": [],
   "source": [
    "import pandas as pd\n",
    "df = pd.read_csv('stock_market_data/sp500/csv/BA.csv')"
   ]
  },
  {
   "cell_type": "code",
   "execution_count": 2,
   "id": "268b6442",
   "metadata": {
    "scrolled": true
   },
   "outputs": [
    {
     "name": "stdout",
     "output_type": "stream",
     "text": [
      "<class 'pandas.core.frame.DataFrame'>\n",
      "RangeIndex: 12938 entries, 0 to 12937\n",
      "Data columns (total 7 columns):\n",
      " #   Column          Non-Null Count  Dtype  \n",
      "---  ------          --------------  -----  \n",
      " 0   Date            12938 non-null  object \n",
      " 1   Low             12938 non-null  float64\n",
      " 2   Open            12938 non-null  float64\n",
      " 3   Volume          12938 non-null  int64  \n",
      " 4   High            12938 non-null  float64\n",
      " 5   Close           12938 non-null  float64\n",
      " 6   Adjusted Close  12938 non-null  float64\n",
      "dtypes: float64(5), int64(1), object(1)\n",
      "memory usage: 707.7+ KB\n"
     ]
    }
   ],
   "source": [
    "df.info()"
   ]
  },
  {
   "cell_type": "code",
   "execution_count": 3,
   "id": "18a6e051",
   "metadata": {},
   "outputs": [],
   "source": [
    "df_metrix = df[['High', 'Low', 'Open', 'Close', 'Volume']]\n",
    "df_metrix.columns = ['high', 'low', 'open', 'close', 'volume']"
   ]
  },
  {
   "cell_type": "code",
   "execution_count": 4,
   "id": "ba4f3655",
   "metadata": {},
   "outputs": [],
   "source": [
    "# 前N天的變動量\n",
    "timeperiod=5"
   ]
  },
  {
   "cell_type": "markdown",
   "id": "e67f3990",
   "metadata": {},
   "source": [
    "# Metrix Preprocess\n",
    "https://medium.com/ai股仔/用-python-快速計算-158-種技術指標-26f9579b8f3a\n",
    "\n",
    "\n",
    "# Ta-Lib\n",
    "https://mrjbq7.github.io/ta-lib/func.html"
   ]
  },
  {
   "cell_type": "code",
   "execution_count": 5,
   "id": "6aac24c5",
   "metadata": {},
   "outputs": [],
   "source": [
    "import talib\n",
    "from talib import abstract"
   ]
  },
  {
   "cell_type": "markdown",
   "id": "235af716",
   "metadata": {},
   "source": [
    "# RSI"
   ]
  },
  {
   "cell_type": "code",
   "execution_count": 6,
   "id": "3560e2ac",
   "metadata": {},
   "outputs": [],
   "source": [
    "rsi = abstract.RSI(df.Close, timeperiod)"
   ]
  },
  {
   "cell_type": "markdown",
   "id": "3e8d677c",
   "metadata": {},
   "source": [
    "# MOM\n",
    "https://blog.csdn.net/The_Time_Runner/article/details/101512714    \n",
    "https://en.wikipedia.org/wiki/Momentum_(technical_analysis)"
   ]
  },
  {
   "cell_type": "code",
   "execution_count": 7,
   "id": "6d4c473b",
   "metadata": {},
   "outputs": [],
   "source": [
    "mom = abstract.MOM(df.Close, timeperiod)"
   ]
  },
  {
   "cell_type": "markdown",
   "id": "76c5e6d7",
   "metadata": {},
   "source": [
    "# KD"
   ]
  },
  {
   "cell_type": "code",
   "execution_count": 8,
   "id": "bd66c7ca",
   "metadata": {},
   "outputs": [],
   "source": [
    "KD = abstract.STOCH(df_metrix)"
   ]
  },
  {
   "cell_type": "markdown",
   "id": "fc0f51a5",
   "metadata": {},
   "source": [
    "# MACD "
   ]
  },
  {
   "cell_type": "code",
   "execution_count": 9,
   "id": "d377a78e",
   "metadata": {},
   "outputs": [],
   "source": [
    "MACD = abstract.MACD(df_metrix) "
   ]
  },
  {
   "cell_type": "code",
   "execution_count": 10,
   "id": "190405d2",
   "metadata": {},
   "outputs": [],
   "source": [
    "frames = [df,\n",
    "          pd.DataFrame({'rsi':rsi}), # rsi is an array\n",
    "          pd.DataFrame({'mom': mom}), # mom is also an array\n",
    "          KD, # KD is a 2-column dataframe\n",
    "          MACD] # MACD is a  3-column dataframe\n",
    "\n",
    "combined = pd.concat(frames, axis = 1)"
   ]
  },
  {
   "cell_type": "markdown",
   "id": "f4f0c7c8",
   "metadata": {},
   "source": [
    "# Add target\n",
    "\n",
    "Target 為今日的收盤價格是否為過去N天的還要高，1:漲，0:跌"
   ]
  },
  {
   "cell_type": "code",
   "execution_count": 11,
   "id": "0729517e",
   "metadata": {},
   "outputs": [],
   "source": [
    "import numpy as np\n",
    "combined['week_trend'] = np.where(combined.Close.shift(-timeperiod) > combined.Close, 1, 0)\n",
    "combined = combined.dropna()"
   ]
  },
  {
   "cell_type": "markdown",
   "id": "d356fb17",
   "metadata": {},
   "source": [
    "# Date to Timestamp"
   ]
  },
  {
   "cell_type": "code",
   "execution_count": 12,
   "id": "fbcff7d3",
   "metadata": {},
   "outputs": [],
   "source": [
    "import datetime\n",
    "def date_to_day(date_str):\n",
    "    d = datetime.datetime.strptime(date_str, '%d-%m-%Y')\n",
    "    return d.timestamp()\n",
    "\n",
    "combined = combined.copy()\n",
    "combined['Date'] = combined['Date'].apply(date_to_day)"
   ]
  },
  {
   "cell_type": "markdown",
   "id": "48b5ef35",
   "metadata": {},
   "source": [
    "# Split Data\n",
    "\n",
    "Note: cannot randomly split the dataset because the order of time matters."
   ]
  },
  {
   "cell_type": "code",
   "execution_count": 13,
   "id": "5e7b96bc",
   "metadata": {},
   "outputs": [],
   "source": [
    "train_size = int(len(combined) * 0.75)\n",
    "train = combined.iloc[:train_size, :]\n",
    "test = combined.iloc[train_size:, :]"
   ]
  },
  {
   "cell_type": "code",
   "execution_count": 14,
   "id": "ee7eb11d",
   "metadata": {},
   "outputs": [],
   "source": [
    "# 訓練樣本再分成目標序列 y 以及因子矩陣 X\n",
    "train_X = train.drop('week_trend', axis = 1)\n",
    "train_y = train.week_trend\n",
    "\n",
    "# 測試樣本再分成目標序列 y 以及因子矩陣 X\n",
    "test_X = test.drop('week_trend', axis = 1)\n",
    "test_y = test.week_trend"
   ]
  },
  {
   "cell_type": "code",
   "execution_count": 15,
   "id": "5c06ec2e",
   "metadata": {},
   "outputs": [
    {
     "data": {
      "text/plain": [
       "0.5447784319801673"
      ]
     },
     "execution_count": 15,
     "metadata": {},
     "output_type": "execute_result"
    }
   ],
   "source": [
    "from sklearn.tree import DecisionTreeClassifier\n",
    "\n",
    "clf = DecisionTreeClassifier(max_depth=6)\n",
    "clf.fit(train_X, train_y)\n",
    "prediction = clf.predict(test_X)\n",
    "\n",
    "from sklearn.metrics import accuracy_score\n",
    "accuracy_score(test_y, prediction)"
   ]
  },
  {
   "cell_type": "code",
   "execution_count": 16,
   "id": "c48a7b88",
   "metadata": {},
   "outputs": [
    {
     "data": {
      "text/plain": [
       "{'Date': 31.25,\n",
       " 'Low': 0.85,\n",
       " 'Open': 3.57,\n",
       " 'Volume': 3.33,\n",
       " 'High': 11.76,\n",
       " 'Close': 3.25,\n",
       " 'Adjusted Close': 6.61,\n",
       " 'rsi': 6.52,\n",
       " 'mom': 3.09,\n",
       " 'slowk': 3.52,\n",
       " 'slowd': 0.0,\n",
       " 'macd': 7.03,\n",
       " 'macdsignal': 13.24,\n",
       " 'macdhist': 5.98}"
      ]
     },
     "execution_count": 16,
     "metadata": {},
     "output_type": "execute_result"
    }
   ],
   "source": [
    "feature_importance = dict()\n",
    "for i, c in enumerate(train_X.columns):\n",
    "    feature_importance[c] = round(clf.feature_importances_[i] * 100, 2)\n",
    "feature_importance"
   ]
  },
  {
   "cell_type": "markdown",
   "id": "bec30f95",
   "metadata": {},
   "source": [
    "# Drop unimportant features and train again"
   ]
  },
  {
   "cell_type": "code",
   "execution_count": 17,
   "id": "9aa8a0f8",
   "metadata": {},
   "outputs": [
    {
     "data": {
      "text/plain": [
       "0.5447784319801673"
      ]
     },
     "execution_count": 17,
     "metadata": {},
     "output_type": "execute_result"
    }
   ],
   "source": [
    "important_features = combined.drop(['Low', 'slowd', 'mom'], axis=1)\n",
    "train = important_features.iloc[:train_size, :]\n",
    "test = important_features.iloc[train_size:, :]\n",
    "train_X = train.drop('week_trend', axis = 1)\n",
    "train_y = train.week_trend\n",
    "test_X = test.drop('week_trend', axis = 1)\n",
    "test_y = test.week_trend\n",
    "\n",
    "clf = DecisionTreeClassifier(max_depth=6)\n",
    "clf.fit(train_X, train_y)\n",
    "prediction = clf.predict(test_X)\n",
    "accuracy_score(test_y, prediction)"
   ]
  }
 ],
 "metadata": {
  "kernelspec": {
   "display_name": "Python 3",
   "language": "python",
   "name": "python3"
  },
  "language_info": {
   "codemirror_mode": {
    "name": "ipython",
    "version": 3
   },
   "file_extension": ".py",
   "mimetype": "text/x-python",
   "name": "python",
   "nbconvert_exporter": "python",
   "pygments_lexer": "ipython3",
   "version": "3.8.5"
  }
 },
 "nbformat": 4,
 "nbformat_minor": 5
}
