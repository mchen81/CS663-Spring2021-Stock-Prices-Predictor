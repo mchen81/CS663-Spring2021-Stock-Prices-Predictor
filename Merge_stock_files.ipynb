{
 "cells": [
  {
   "cell_type": "code",
   "execution_count": 1,
   "id": "d9142ef3",
   "metadata": {},
   "outputs": [],
   "source": [
    "# get data file names\n",
    "path ='stock_market_data/sp500/csv'"
   ]
  },
  {
   "cell_type": "code",
   "execution_count": 2,
   "id": "d4ec6505",
   "metadata": {},
   "outputs": [],
   "source": [
    "import datetime\n",
    "startDate = datetime.datetime.strptime('01-01-2005', '%d-%m-%Y')\n",
    "endDate = datetime.datetime.strptime('01-01-2021', '%d-%m-%Y')"
   ]
  },
  {
   "cell_type": "code",
   "execution_count": 3,
   "id": "7adaaad5",
   "metadata": {},
   "outputs": [],
   "source": [
    "import glob\n",
    "import pandas as pd\n",
    "\n",
    "filenames = glob.glob(path + \"/*.csv\")\n",
    "all_frames = [None] * len(filenames)\n",
    "stock_names= [None] * len(filenames)\n",
    "for index, filename in enumerate(filenames):\n",
    "    stock_name = filename.split('/')[-1].split('.csv')[0]\n",
    "    df_tmp = pd.read_csv(filename)\n",
    "    \n",
    "    # The average's name\n",
    "    avg_name = stock_name + '_Avg'\n",
    "    \n",
    "    df_tmp[avg_name] = (df_tmp['High'] + df_tmp['Low']) / 2\n",
    "    df_tmp = df_tmp[['Date', avg_name]]\n",
    "    \n",
    "    all_frames[index] = df_tmp\n",
    "    stock_names[index] = stock_name\n",
    "\n",
    "df_all_stocks = pd.DataFrame(columns=[])\n",
    "\n",
    "merged = all_frames[0]\n",
    "for index in range(1, len(all_frames)):\n",
    "    merged = merged.merge(all_frames[index], how=\"outer\")\n",
    "\n"
   ]
  },
  {
   "cell_type": "code",
   "execution_count": 5,
   "id": "87593f3a",
   "metadata": {},
   "outputs": [],
   "source": [
    "merged.to_csv('merged_sp500.csv')"
   ]
  }
 ],
 "metadata": {
  "kernelspec": {
   "display_name": "Python 3",
   "language": "python",
   "name": "python3"
  },
  "language_info": {
   "codemirror_mode": {
    "name": "ipython",
    "version": 3
   },
   "file_extension": ".py",
   "mimetype": "text/x-python",
   "name": "python",
   "nbconvert_exporter": "python",
   "pygments_lexer": "ipython3",
   "version": "3.8.5"
  }
 },
 "nbformat": 4,
 "nbformat_minor": 5
}
