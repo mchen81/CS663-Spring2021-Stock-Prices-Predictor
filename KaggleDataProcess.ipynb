{
 "cells": [
  {
   "cell_type": "code",
   "execution_count": 4,
   "id": "db6b8821",
   "metadata": {},
   "outputs": [],
   "source": [
    "import pandas as pd\n",
    "df = pd.read_csv('stock_market_data/sp500/csv/GOOG.csv')"
   ]
  },
  {
   "cell_type": "code",
   "execution_count": 5,
   "id": "a255ec07",
   "metadata": {},
   "outputs": [
    {
     "data": {
      "text/html": [
       "<div>\n",
       "<style scoped>\n",
       "    .dataframe tbody tr th:only-of-type {\n",
       "        vertical-align: middle;\n",
       "    }\n",
       "\n",
       "    .dataframe tbody tr th {\n",
       "        vertical-align: top;\n",
       "    }\n",
       "\n",
       "    .dataframe thead th {\n",
       "        text-align: right;\n",
       "    }\n",
       "</style>\n",
       "<table border=\"1\" class=\"dataframe\">\n",
       "  <thead>\n",
       "    <tr style=\"text-align: right;\">\n",
       "      <th></th>\n",
       "      <th>Date</th>\n",
       "      <th>Low</th>\n",
       "      <th>Open</th>\n",
       "      <th>Volume</th>\n",
       "      <th>High</th>\n",
       "      <th>Close</th>\n",
       "      <th>Adjusted Close</th>\n",
       "    </tr>\n",
       "  </thead>\n",
       "  <tbody>\n",
       "    <tr>\n",
       "      <th>0</th>\n",
       "      <td>19-08-2004</td>\n",
       "      <td>47.800831</td>\n",
       "      <td>49.813290</td>\n",
       "      <td>44871361</td>\n",
       "      <td>51.835709</td>\n",
       "      <td>49.982655</td>\n",
       "      <td>49.982655</td>\n",
       "    </tr>\n",
       "    <tr>\n",
       "      <th>1</th>\n",
       "      <td>20-08-2004</td>\n",
       "      <td>50.062355</td>\n",
       "      <td>50.316402</td>\n",
       "      <td>22942874</td>\n",
       "      <td>54.336334</td>\n",
       "      <td>53.952770</td>\n",
       "      <td>53.952770</td>\n",
       "    </tr>\n",
       "    <tr>\n",
       "      <th>2</th>\n",
       "      <td>23-08-2004</td>\n",
       "      <td>54.321388</td>\n",
       "      <td>55.168217</td>\n",
       "      <td>18342897</td>\n",
       "      <td>56.528118</td>\n",
       "      <td>54.495735</td>\n",
       "      <td>54.495735</td>\n",
       "    </tr>\n",
       "    <tr>\n",
       "      <th>3</th>\n",
       "      <td>24-08-2004</td>\n",
       "      <td>51.591621</td>\n",
       "      <td>55.412300</td>\n",
       "      <td>15319808</td>\n",
       "      <td>55.591629</td>\n",
       "      <td>52.239197</td>\n",
       "      <td>52.239197</td>\n",
       "    </tr>\n",
       "    <tr>\n",
       "      <th>4</th>\n",
       "      <td>25-08-2004</td>\n",
       "      <td>51.746044</td>\n",
       "      <td>52.284027</td>\n",
       "      <td>9232276</td>\n",
       "      <td>53.798351</td>\n",
       "      <td>52.802086</td>\n",
       "      <td>52.802086</td>\n",
       "    </tr>\n",
       "    <tr>\n",
       "      <th>...</th>\n",
       "      <td>...</td>\n",
       "      <td>...</td>\n",
       "      <td>...</td>\n",
       "      <td>...</td>\n",
       "      <td>...</td>\n",
       "      <td>...</td>\n",
       "      <td>...</td>\n",
       "    </tr>\n",
       "    <tr>\n",
       "      <th>4189</th>\n",
       "      <td>12-04-2021</td>\n",
       "      <td>2238.465088</td>\n",
       "      <td>2266.250000</td>\n",
       "      <td>1565900</td>\n",
       "      <td>2275.320068</td>\n",
       "      <td>2254.790039</td>\n",
       "      <td>2254.790039</td>\n",
       "    </tr>\n",
       "    <tr>\n",
       "      <th>4190</th>\n",
       "      <td>13-04-2021</td>\n",
       "      <td>2256.090088</td>\n",
       "      <td>2261.469971</td>\n",
       "      <td>1165500</td>\n",
       "      <td>2277.209961</td>\n",
       "      <td>2267.270020</td>\n",
       "      <td>2267.270020</td>\n",
       "    </tr>\n",
       "    <tr>\n",
       "      <th>4191</th>\n",
       "      <td>14-04-2021</td>\n",
       "      <td>2249.189941</td>\n",
       "      <td>2275.159912</td>\n",
       "      <td>1011000</td>\n",
       "      <td>2277.989990</td>\n",
       "      <td>2254.840088</td>\n",
       "      <td>2254.840088</td>\n",
       "    </tr>\n",
       "    <tr>\n",
       "      <th>4192</th>\n",
       "      <td>15-04-2021</td>\n",
       "      <td>2266.000000</td>\n",
       "      <td>2276.979980</td>\n",
       "      <td>1373600</td>\n",
       "      <td>2306.596924</td>\n",
       "      <td>2296.659912</td>\n",
       "      <td>2296.659912</td>\n",
       "    </tr>\n",
       "    <tr>\n",
       "      <th>4193</th>\n",
       "      <td>16-04-2021</td>\n",
       "      <td>2284.449951</td>\n",
       "      <td>2303.000000</td>\n",
       "      <td>1129800</td>\n",
       "      <td>2306.439941</td>\n",
       "      <td>2297.760010</td>\n",
       "      <td>2297.760010</td>\n",
       "    </tr>\n",
       "  </tbody>\n",
       "</table>\n",
       "<p>4194 rows × 7 columns</p>\n",
       "</div>"
      ],
      "text/plain": [
       "            Date          Low         Open    Volume         High  \\\n",
       "0     19-08-2004    47.800831    49.813290  44871361    51.835709   \n",
       "1     20-08-2004    50.062355    50.316402  22942874    54.336334   \n",
       "2     23-08-2004    54.321388    55.168217  18342897    56.528118   \n",
       "3     24-08-2004    51.591621    55.412300  15319808    55.591629   \n",
       "4     25-08-2004    51.746044    52.284027   9232276    53.798351   \n",
       "...          ...          ...          ...       ...          ...   \n",
       "4189  12-04-2021  2238.465088  2266.250000   1565900  2275.320068   \n",
       "4190  13-04-2021  2256.090088  2261.469971   1165500  2277.209961   \n",
       "4191  14-04-2021  2249.189941  2275.159912   1011000  2277.989990   \n",
       "4192  15-04-2021  2266.000000  2276.979980   1373600  2306.596924   \n",
       "4193  16-04-2021  2284.449951  2303.000000   1129800  2306.439941   \n",
       "\n",
       "            Close  Adjusted Close  \n",
       "0       49.982655       49.982655  \n",
       "1       53.952770       53.952770  \n",
       "2       54.495735       54.495735  \n",
       "3       52.239197       52.239197  \n",
       "4       52.802086       52.802086  \n",
       "...           ...             ...  \n",
       "4189  2254.790039     2254.790039  \n",
       "4190  2267.270020     2267.270020  \n",
       "4191  2254.840088     2254.840088  \n",
       "4192  2296.659912     2296.659912  \n",
       "4193  2297.760010     2297.760010  \n",
       "\n",
       "[4194 rows x 7 columns]"
      ]
     },
     "execution_count": 5,
     "metadata": {},
     "output_type": "execute_result"
    }
   ],
   "source": [
    "df"
   ]
  },
  {
   "cell_type": "code",
   "execution_count": 6,
   "id": "268b6442",
   "metadata": {
    "scrolled": true
   },
   "outputs": [
    {
     "name": "stdout",
     "output_type": "stream",
     "text": [
      "<class 'pandas.core.frame.DataFrame'>\n",
      "RangeIndex: 4194 entries, 0 to 4193\n",
      "Data columns (total 7 columns):\n",
      " #   Column          Non-Null Count  Dtype  \n",
      "---  ------          --------------  -----  \n",
      " 0   Date            4194 non-null   object \n",
      " 1   Low             4194 non-null   float64\n",
      " 2   Open            4194 non-null   float64\n",
      " 3   Volume          4194 non-null   int64  \n",
      " 4   High            4194 non-null   float64\n",
      " 5   Close           4194 non-null   float64\n",
      " 6   Adjusted Close  4194 non-null   float64\n",
      "dtypes: float64(5), int64(1), object(1)\n",
      "memory usage: 229.5+ KB\n"
     ]
    }
   ],
   "source": [
    "df.info()"
   ]
  },
  {
   "cell_type": "code",
   "execution_count": 7,
   "id": "18a6e051",
   "metadata": {},
   "outputs": [],
   "source": [
    "df_metrix = df[['High', 'Low', 'Open', 'Close', 'Volume']]\n",
    "df_metrix.columns = ['high', 'low', 'open', 'close', 'volume']"
   ]
  },
  {
   "cell_type": "code",
   "execution_count": 8,
   "id": "ba4f3655",
   "metadata": {},
   "outputs": [],
   "source": [
    "timeperiod=5"
   ]
  },
  {
   "cell_type": "markdown",
   "id": "cbc287f8",
   "metadata": {},
   "source": [
    "# Generate other indicators\n",
    "\n",
    "Here I am going to use the TA-lib, which helps us to calculate those stock market indicators. \n"
   ]
  },
  {
   "cell_type": "code",
   "execution_count": 9,
   "id": "6aac24c5",
   "metadata": {},
   "outputs": [],
   "source": [
    "import talib\n",
    "from talib import abstract"
   ]
  },
  {
   "cell_type": "markdown",
   "id": "235af716",
   "metadata": {},
   "source": [
    "# RSI"
   ]
  },
  {
   "cell_type": "code",
   "execution_count": 10,
   "id": "3560e2ac",
   "metadata": {},
   "outputs": [],
   "source": [
    "RSI = abstract.RSI(df.Close, timeperiod)\n",
    "RSI = pd.DataFrame({'RSI' : RSI})"
   ]
  },
  {
   "cell_type": "markdown",
   "id": "3e8d677c",
   "metadata": {},
   "source": [
    "# MOM"
   ]
  },
  {
   "cell_type": "code",
   "execution_count": 11,
   "id": "6d4c473b",
   "metadata": {},
   "outputs": [],
   "source": [
    "MOM = abstract.MOM(df.Close, timeperiod)\n",
    "MOM = pd.DataFrame({'MOM':MOM})"
   ]
  },
  {
   "cell_type": "markdown",
   "id": "76c5e6d7",
   "metadata": {},
   "source": [
    "# KD"
   ]
  },
  {
   "cell_type": "code",
   "execution_count": 12,
   "id": "bd66c7ca",
   "metadata": {},
   "outputs": [],
   "source": [
    "KD = abstract.STOCH(df_metrix)\n",
    "KD = pd.DataFrame(KD) # KD has slowd and slowk"
   ]
  },
  {
   "cell_type": "markdown",
   "id": "fc0f51a5",
   "metadata": {},
   "source": [
    "# MACD "
   ]
  },
  {
   "cell_type": "code",
   "execution_count": 13,
   "id": "d377a78e",
   "metadata": {},
   "outputs": [],
   "source": [
    "MACD = abstract.MACD(df_metrix) \n",
    "MACD = pd.DataFrame(MACD) # MACD has its own column names"
   ]
  },
  {
   "cell_type": "markdown",
   "id": "91a294c4",
   "metadata": {},
   "source": [
    "# ADX"
   ]
  },
  {
   "cell_type": "code",
   "execution_count": 14,
   "id": "e24dbd0e",
   "metadata": {},
   "outputs": [],
   "source": [
    "ADX = abstract.ADX(df_metrix)\n",
    "ADX = pd.DataFrame({'ADX': ADX})"
   ]
  },
  {
   "cell_type": "markdown",
   "id": "2292f386",
   "metadata": {},
   "source": [
    "# Simple Moving Average"
   ]
  },
  {
   "cell_type": "code",
   "execution_count": 15,
   "id": "f11e7397",
   "metadata": {},
   "outputs": [],
   "source": [
    "SMA = abstract.SMA(df.Close)\n",
    "SMA = pd.DataFrame({'SMA': SMA})"
   ]
  },
  {
   "cell_type": "markdown",
   "id": "a20e5ab4",
   "metadata": {},
   "source": [
    "# Bollinger Bands"
   ]
  },
  {
   "cell_type": "code",
   "execution_count": 16,
   "id": "c91042d3",
   "metadata": {},
   "outputs": [],
   "source": [
    "from talib import MA_Type\n",
    "upper, middle, lower = talib.BBANDS(df.Close, matype=MA_Type.T3)\n",
    "bb_df = pd.DataFrame({ \\\n",
    "    'upper_bb' : upper,\n",
    "    'middel_bb' : middle,\n",
    "    'lower_bb' : lower})"
   ]
  },
  {
   "cell_type": "code",
   "execution_count": 17,
   "id": "190405d2",
   "metadata": {},
   "outputs": [],
   "source": [
    "frames = [df,\n",
    "          RSI, \n",
    "          MOM, \n",
    "          KD, \n",
    "          MACD,\n",
    "          ADX,\n",
    "          SMA,\n",
    "          bb_df]\n",
    "\n",
    "combined = pd.concat(frames, axis = 1)"
   ]
  },
  {
   "cell_type": "markdown",
   "id": "f4f0c7c8",
   "metadata": {},
   "source": [
    "# Target"
   ]
  },
  {
   "cell_type": "code",
   "execution_count": 18,
   "id": "0729517e",
   "metadata": {},
   "outputs": [],
   "source": [
    "import numpy as np\n",
    "combined['week_trend'] = np.where(combined.Close.shift(-timeperiod) > combined.Close, 1, 0)\n",
    "combined = combined.dropna()"
   ]
  },
  {
   "cell_type": "code",
   "execution_count": 20,
   "id": "129fd000",
   "metadata": {},
   "outputs": [],
   "source": [
    "dd = combined[['Close', 'week_trend']]"
   ]
  },
  {
   "cell_type": "code",
   "execution_count": 24,
   "id": "b77b7093",
   "metadata": {},
   "outputs": [
    {
     "data": {
      "text/html": [
       "<div>\n",
       "<style scoped>\n",
       "    .dataframe tbody tr th:only-of-type {\n",
       "        vertical-align: middle;\n",
       "    }\n",
       "\n",
       "    .dataframe tbody tr th {\n",
       "        vertical-align: top;\n",
       "    }\n",
       "\n",
       "    .dataframe thead th {\n",
       "        text-align: right;\n",
       "    }\n",
       "</style>\n",
       "<table border=\"1\" class=\"dataframe\">\n",
       "  <thead>\n",
       "    <tr style=\"text-align: right;\">\n",
       "      <th></th>\n",
       "      <th>Close</th>\n",
       "      <th>week_trend</th>\n",
       "    </tr>\n",
       "  </thead>\n",
       "  <tbody>\n",
       "    <tr>\n",
       "      <th>33</th>\n",
       "      <td>68.284058</td>\n",
       "      <td>1</td>\n",
       "    </tr>\n",
       "    <tr>\n",
       "      <th>34</th>\n",
       "      <td>69.165749</td>\n",
       "      <td>1</td>\n",
       "    </tr>\n",
       "    <tr>\n",
       "      <th>35</th>\n",
       "      <td>68.607841</td>\n",
       "      <td>1</td>\n",
       "    </tr>\n",
       "    <tr>\n",
       "      <th>36</th>\n",
       "      <td>67.377457</td>\n",
       "      <td>1</td>\n",
       "    </tr>\n",
       "    <tr>\n",
       "      <th>37</th>\n",
       "      <td>68.443459</td>\n",
       "      <td>1</td>\n",
       "    </tr>\n",
       "    <tr>\n",
       "      <th>38</th>\n",
       "      <td>70.186920</td>\n",
       "      <td>0</td>\n",
       "    </tr>\n",
       "    <tr>\n",
       "      <th>39</th>\n",
       "      <td>70.734871</td>\n",
       "      <td>1</td>\n",
       "    </tr>\n",
       "    <tr>\n",
       "      <th>40</th>\n",
       "      <td>71.785927</td>\n",
       "      <td>1</td>\n",
       "    </tr>\n",
       "    <tr>\n",
       "      <th>41</th>\n",
       "      <td>74.301498</td>\n",
       "      <td>1</td>\n",
       "    </tr>\n",
       "    <tr>\n",
       "      <th>42</th>\n",
       "      <td>73.693779</td>\n",
       "      <td>1</td>\n",
       "    </tr>\n",
       "    <tr>\n",
       "      <th>43</th>\n",
       "      <td>69.982689</td>\n",
       "      <td>1</td>\n",
       "    </tr>\n",
       "    <tr>\n",
       "      <th>44</th>\n",
       "      <td>74.411087</td>\n",
       "      <td>1</td>\n",
       "    </tr>\n",
       "    <tr>\n",
       "      <th>45</th>\n",
       "      <td>85.893051</td>\n",
       "      <td>1</td>\n",
       "    </tr>\n",
       "    <tr>\n",
       "      <th>46</th>\n",
       "      <td>93.350098</td>\n",
       "      <td>1</td>\n",
       "    </tr>\n",
       "    <tr>\n",
       "      <th>47</th>\n",
       "      <td>90.560555</td>\n",
       "      <td>1</td>\n",
       "    </tr>\n",
       "    <tr>\n",
       "      <th>48</th>\n",
       "      <td>92.637772</td>\n",
       "      <td>1</td>\n",
       "    </tr>\n",
       "    <tr>\n",
       "      <th>49</th>\n",
       "      <td>96.289085</td>\n",
       "      <td>0</td>\n",
       "    </tr>\n",
       "    <tr>\n",
       "      <th>50</th>\n",
       "      <td>94.964050</td>\n",
       "      <td>0</td>\n",
       "    </tr>\n",
       "    <tr>\n",
       "      <th>51</th>\n",
       "      <td>97.648987</td>\n",
       "      <td>0</td>\n",
       "    </tr>\n",
       "    <tr>\n",
       "      <th>52</th>\n",
       "      <td>97.071152</td>\n",
       "      <td>0</td>\n",
       "    </tr>\n",
       "  </tbody>\n",
       "</table>\n",
       "</div>"
      ],
      "text/plain": [
       "        Close  week_trend\n",
       "33  68.284058           1\n",
       "34  69.165749           1\n",
       "35  68.607841           1\n",
       "36  67.377457           1\n",
       "37  68.443459           1\n",
       "38  70.186920           0\n",
       "39  70.734871           1\n",
       "40  71.785927           1\n",
       "41  74.301498           1\n",
       "42  73.693779           1\n",
       "43  69.982689           1\n",
       "44  74.411087           1\n",
       "45  85.893051           1\n",
       "46  93.350098           1\n",
       "47  90.560555           1\n",
       "48  92.637772           1\n",
       "49  96.289085           0\n",
       "50  94.964050           0\n",
       "51  97.648987           0\n",
       "52  97.071152           0"
      ]
     },
     "execution_count": 24,
     "metadata": {},
     "output_type": "execute_result"
    }
   ],
   "source": [
    "dd.iloc[0:20, :]"
   ]
  },
  {
   "cell_type": "markdown",
   "id": "d356fb17",
   "metadata": {},
   "source": [
    "# Date to Timestamp"
   ]
  },
  {
   "cell_type": "code",
   "execution_count": null,
   "id": "a3ad0dd4",
   "metadata": {},
   "outputs": [],
   "source": [
    "th = (date64 - np.datetime64('1970-01-01T00:00:00Z')) / np.timedelta64(1, 'h')\n",
    "  \n",
    "print(\"Printing the converted datetime in Timestamp in hour:\",\n"
   ]
  },
  {
   "cell_type": "code",
   "execution_count": 15,
   "id": "fbcff7d3",
   "metadata": {},
   "outputs": [],
   "source": [
    "import datetime\n",
    "def date_to_day(date_str):\n",
    "    d = datetime.datetime.strptime(date_str, '%d-%m-%Y')\n",
    "    return d.timestamp()\n",
    "\n",
    "combined = combined.copy()\n",
    "combined['Date'] = combined['Date'].apply(date_to_day)"
   ]
  },
  {
   "cell_type": "markdown",
   "id": "48b5ef35",
   "metadata": {},
   "source": [
    "# Split Data\n",
    "\n",
    "Note: cannot randomly split the dataset because the order of time matters."
   ]
  },
  {
   "cell_type": "code",
   "execution_count": 16,
   "id": "5e7b96bc",
   "metadata": {},
   "outputs": [],
   "source": [
    "train_size = int(len(combined) * 0.75)\n",
    "train = combined.iloc[:train_size, :]\n",
    "test = combined.iloc[train_size:, :]"
   ]
  },
  {
   "cell_type": "code",
   "execution_count": 17,
   "id": "ee7eb11d",
   "metadata": {},
   "outputs": [],
   "source": [
    "\n",
    "train_X = train.drop('week_trend', axis = 1)\n",
    "train_y = train.week_trend\n",
    "\n",
    "test_X = test.drop('week_trend', axis = 1)\n",
    "test_y = test.week_trend"
   ]
  },
  {
   "cell_type": "code",
   "execution_count": 18,
   "id": "5c06ec2e",
   "metadata": {},
   "outputs": [
    {
     "data": {
      "text/plain": [
       "0.5206532180595581"
      ]
     },
     "execution_count": 18,
     "metadata": {},
     "output_type": "execute_result"
    }
   ],
   "source": [
    "from sklearn.tree import DecisionTreeClassifier\n",
    "\n",
    "clf = DecisionTreeClassifier(max_depth=5)\n",
    "clf.fit(train_X, train_y)\n",
    "prediction = clf.predict(test_X)\n",
    "\n",
    "from sklearn.metrics import accuracy_score\n",
    "accuracy_score(test_y, prediction)"
   ]
  },
  {
   "cell_type": "code",
   "execution_count": 19,
   "id": "c48a7b88",
   "metadata": {},
   "outputs": [
    {
     "data": {
      "text/plain": [
       "{'Date': 2.77,\n",
       " 'Low': 0.0,\n",
       " 'Open': 0.0,\n",
       " 'Volume': 12.06,\n",
       " 'High': 15.11,\n",
       " 'Close': 0.0,\n",
       " 'Adjusted Close': 2.35,\n",
       " 'RSI': 5.84,\n",
       " 'MOM': 0.0,\n",
       " 'slowk': 0.0,\n",
       " 'slowd': 0.0,\n",
       " 'macd': 0.0,\n",
       " 'macdsignal': 16.11,\n",
       " 'macdhist': 9.53,\n",
       " 'ADX': 23.73,\n",
       " 'SMA': 4.38,\n",
       " 'upper_bb': 5.09,\n",
       " 'middel_bb': 0.0,\n",
       " 'lower_bb': 3.03}"
      ]
     },
     "execution_count": 19,
     "metadata": {},
     "output_type": "execute_result"
    }
   ],
   "source": [
    "feature_importance = dict()\n",
    "for i, c in enumerate(train_X.columns):\n",
    "    feature_importance[c] = round(clf.feature_importances_[i] * 100, 2)\n",
    "feature_importance"
   ]
  },
  {
   "cell_type": "markdown",
   "id": "bec30f95",
   "metadata": {},
   "source": [
    "# Drop unimportant features and train again\n",
    "\n",
    "Because a stock dataset may have different feature importance. Here I just want to see if I drop those unimportant features, would the accuracy raise?   \n",
    "  \n",
    "Disappointedly, it didn't."
   ]
  },
  {
   "cell_type": "code",
   "execution_count": 20,
   "id": "9aa8a0f8",
   "metadata": {},
   "outputs": [
    {
     "data": {
      "text/plain": [
       "0.5485110470701249"
      ]
     },
     "execution_count": 20,
     "metadata": {},
     "output_type": "execute_result"
    }
   ],
   "source": [
    "important_features = combined.drop(['Low', 'Open', 'High', 'Close', 'slowd', 'macd', 'SMA', 'middel_bb'], axis=1)\n",
    "train = important_features.iloc[:train_size, :]\n",
    "test = important_features.iloc[train_size:, :]\n",
    "train_X = train.drop('week_trend', axis = 1)\n",
    "train_y = train.week_trend\n",
    "test_X = test.drop('week_trend', axis = 1)\n",
    "test_y = test.week_trend\n",
    "\n",
    "clf = DecisionTreeClassifier(max_depth=6)\n",
    "clf.fit(train_X, train_y)\n",
    "prediction = clf.predict(test_X)\n",
    "accuracy_score(test_y, prediction)"
   ]
  }
 ],
 "metadata": {
  "kernelspec": {
   "display_name": "Python 3",
   "language": "python",
   "name": "python3"
  },
  "language_info": {
   "codemirror_mode": {
    "name": "ipython",
    "version": 3
   },
   "file_extension": ".py",
   "mimetype": "text/x-python",
   "name": "python",
   "nbconvert_exporter": "python",
   "pygments_lexer": "ipython3",
   "version": "3.8.5"
  }
 },
 "nbformat": 4,
 "nbformat_minor": 5
}
