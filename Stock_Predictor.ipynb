{
 "cells": [
  {
   "cell_type": "code",
   "execution_count": 2,
   "id": "734b2547",
   "metadata": {},
   "outputs": [],
   "source": [
    "import stock_helper\n",
    "import pandas as pd\n",
    "from datetime import datetime\n",
    "import numpy as np\n",
    "\n",
    "dataset = stock_helper.fetch_stock_data('GOOG', '30y')"
   ]
  },
  {
   "cell_type": "code",
   "execution_count": 3,
   "id": "c9d8c422",
   "metadata": {},
   "outputs": [],
   "source": [
    "df = stock_helper.generate_indicators(dataset, \n",
    "                                      timeperiod=5, \n",
    "                                      generate_target=True, \n",
    "                                      reset_index=True)\n",
    "\n",
    "# Convert date to the n-th day from 1970-01-01\n",
    "df['date'] = df['date'].apply(lambda date64: (date64 - np.datetime64('1970-01-01T00:00:00')) / np.timedelta64(1, 'D'))"
   ]
  },
  {
   "cell_type": "code",
   "execution_count": 4,
   "id": "b6fd7e7f",
   "metadata": {},
   "outputs": [],
   "source": [
    "df = df.dropna()\n",
    "\n",
    "train_size = int(len(df) * 0.8)\n",
    "train = df.iloc[:train_size, :]\n",
    "test = df.iloc[train_size:, :]\n",
    "\n",
    "target_name = df.columns[-1]\n",
    "train_X = train.drop(target_name, axis = 1)\n",
    "train_y = train[target_name]\n",
    "\n",
    "test_X = test.drop(target_name, axis = 1)\n",
    "test_y = test[target_name]"
   ]
  },
  {
   "cell_type": "code",
   "execution_count": 5,
   "id": "d590979c",
   "metadata": {},
   "outputs": [
    {
     "output_type": "execute_result",
     "data": {
      "text/plain": [
       "0.5956937799043063"
      ]
     },
     "metadata": {},
     "execution_count": 5
    }
   ],
   "source": [
    "from sklearn.tree import DecisionTreeClassifier\n",
    "\n",
    "clf = DecisionTreeClassifier(max_depth=2)\n",
    "clf.fit(train_X, train_y)\n",
    "prediction = clf.predict(test_X)\n",
    "\n",
    "from sklearn.metrics import accuracy_score\n",
    "accuracy_score(test_y, prediction)"
   ]
  },
  {
   "cell_type": "code",
   "execution_count": 6,
   "id": "c0a1cbdd",
   "metadata": {},
   "outputs": [
    {
     "output_type": "execute_result",
     "data": {
      "text/plain": [
       "0.5956937799043063"
      ]
     },
     "metadata": {},
     "execution_count": 6
    }
   ],
   "source": [
    "from sklearn.ensemble import RandomForestClassifier\n",
    "\n",
    "clf = RandomForestClassifier(max_depth=5)\n",
    "clf.fit(train_X, train_y)\n",
    "prediction = clf.predict(test_X)\n",
    "\n",
    "accuracy_score(test_y, prediction)"
   ]
  },
  {
   "cell_type": "code",
   "execution_count": 16,
   "id": "0077fc8d",
   "metadata": {},
   "outputs": [
    {
     "output_type": "execute_result",
     "data": {
      "text/plain": [
       "0.562200956937799"
      ]
     },
     "metadata": {},
     "execution_count": 16
    }
   ],
   "source": [
    "from sklearn.tree import DecisionTreeClassifier\n",
    "\n",
    "clf = DecisionTreeClassifier(max_depth=4)\n",
    "clf.fit(train_X, train_y)\n",
    "prediction = clf.predict(test_X)\n",
    "\n",
    "from sklearn.metrics import accuracy_score\n",
    "accuracy_score(test_y, prediction)"
   ]
  },
  {
   "cell_type": "code",
   "execution_count": 31,
   "metadata": {},
   "outputs": [
    {
     "output_type": "execute_result",
     "data": {
      "text/plain": [
       "0.5956937799043063"
      ]
     },
     "metadata": {},
     "execution_count": 31
    }
   ],
   "source": [
    "from sklearn.ensemble import RandomForestClassifier\n",
    "\n",
    "clf = RandomForestClassifier(max_depth=8)\n",
    "clf.fit(train_X, train_y)\n",
    "prediction = clf.predict(test_X)\n",
    "\n",
    "accuracy_score(test_y, prediction)"
   ]
  },
  {
   "cell_type": "code",
   "execution_count": 25,
   "metadata": {},
   "outputs": [],
   "source": [
    "from sklearn.feature_extraction.text import CountVectorizer\n",
    "\n",
    "count_vect = CountVectorizer()\n",
    "x_train_counts = count_vect.fit_transform(train_X).toarray()\n",
    "x_test_counts = count_vect.transform(test_X).toarray()"
   ]
  },
  {
   "cell_type": "code",
   "execution_count": 26,
   "metadata": {},
   "outputs": [
    {
     "output_type": "execute_result",
     "data": {
      "text/plain": [
       "(18, 18)"
      ]
     },
     "metadata": {},
     "execution_count": 26
    }
   ],
   "source": [
    "x_train_counts.shape"
   ]
  },
  {
   "cell_type": "code",
   "execution_count": 30,
   "metadata": {},
   "outputs": [
    {
     "output_type": "execute_result",
     "data": {
      "text/plain": [
       "0.5956937799043063"
      ]
     },
     "metadata": {},
     "execution_count": 30
    }
   ],
   "source": [
    "from sklearn.linear_model import LogisticRegression\n",
    "from sklearn.metrics import accuracy_score\n",
    "\n",
    "clf = LogisticRegression()\n",
    "clf.fit(train_X, train_y)\n",
    "\n",
    "hyp = clf.predict(test_X)\n",
    "accuracy_score(test_y, hyp)"
   ]
  },
  {
   "cell_type": "code",
   "execution_count": 32,
   "metadata": {},
   "outputs": [
    {
     "output_type": "execute_result",
     "data": {
      "text/plain": [
       "         date         high          low         open        close    volume  \\\n",
       "33    12697.0    68.966499    67.746071    68.518173    68.284058  13445007   \n",
       "34    12698.0    69.678825    68.020042    68.204353    69.165749  14182160   \n",
       "35    12699.0    69.579201    68.254166    69.100990    68.607841  11122133   \n",
       "36    12702.0    69.170731    66.675087    68.244202    67.377457  10521891   \n",
       "37    12703.0    68.548065    66.450928    66.968987    68.443459  11720969   \n",
       "...       ...          ...          ...          ...          ...       ...   \n",
       "3368  17535.0  1093.569946  1084.001953  1088.000000  1086.400024   1004600   \n",
       "3369  17536.0  1104.250000  1092.000000  1094.000000  1102.229980   1279100   \n",
       "3370  17539.0  1111.270020  1101.619995  1102.229980  1106.939941   1047600   \n",
       "3371  17540.0  1110.569946  1101.230957  1109.400024  1106.260010    902500   \n",
       "3372  17541.0  1104.599976  1096.109985  1097.099976  1102.609985   1042800   \n",
       "\n",
       "            RSI        MOM      slowk      slowd       macd  macdsignal  \\\n",
       "33    80.315879   2.988800  90.925916  87.770443   4.352631    3.500605   \n",
       "34    83.169395   4.607727  91.420462  91.189372   4.459865    3.692457   \n",
       "35    74.614000   2.565384  82.473639  88.273339   4.448550    3.843675   \n",
       "36    58.129902   0.099632  67.335623  80.409908   4.290839    3.933108   \n",
       "37    66.213656  -0.483185  57.705333  69.171532   4.203415    3.987170   \n",
       "...         ...        ...        ...        ...        ...         ...   \n",
       "3368  81.606064  37.030029  89.126916  63.467050  12.009556   10.579442   \n",
       "3369  87.616769  54.089966  90.909168  81.174514  14.284510   11.320455   \n",
       "3370  88.958668  60.539917  91.782399  90.606161  16.279818   12.312328   \n",
       "3371  87.252500  41.260010  93.205068  91.965545  17.603329   13.370528   \n",
       "3372  77.303629  20.130005  83.753297  89.580254  18.148490   14.326120   \n",
       "\n",
       "      macdhist        ADX          SMA     upper_bb    middel_bb     lower_bb  \n",
       "33    0.852026  48.206481    57.207240    70.315640    67.176659    64.037677  \n",
       "34    0.767408  49.234825    57.752695    70.409909    68.106270    65.802631  \n",
       "35    0.604875  50.189717    58.247839    70.079619    68.763290    67.446962  \n",
       "36    0.357731  49.795899    58.731195    70.258230    69.012505    67.766781  \n",
       "37    0.216246  49.258923    59.318825    70.241249    69.079338    67.917427  \n",
       "...        ...        ...          ...          ...          ...          ...  \n",
       "3368  1.430114  28.021263  1045.422998  1097.084741  1063.721412  1030.358084  \n",
       "3369  2.964054  29.836443  1047.680998  1110.603580  1072.298896  1033.994212  \n",
       "3370  3.967490  31.751692  1050.046997  1112.133026  1082.181280  1052.229534  \n",
       "3371  4.232801  33.484206  1052.235331  1112.111141  1091.423017  1070.734892  \n",
       "3372  3.822369  34.480174  1053.848665  1113.459453  1098.488760  1083.518067  \n",
       "\n",
       "[3340 rows x 18 columns]"
      ],
      "text/html": "<div>\n<style scoped>\n    .dataframe tbody tr th:only-of-type {\n        vertical-align: middle;\n    }\n\n    .dataframe tbody tr th {\n        vertical-align: top;\n    }\n\n    .dataframe thead th {\n        text-align: right;\n    }\n</style>\n<table border=\"1\" class=\"dataframe\">\n  <thead>\n    <tr style=\"text-align: right;\">\n      <th></th>\n      <th>date</th>\n      <th>high</th>\n      <th>low</th>\n      <th>open</th>\n      <th>close</th>\n      <th>volume</th>\n      <th>RSI</th>\n      <th>MOM</th>\n      <th>slowk</th>\n      <th>slowd</th>\n      <th>macd</th>\n      <th>macdsignal</th>\n      <th>macdhist</th>\n      <th>ADX</th>\n      <th>SMA</th>\n      <th>upper_bb</th>\n      <th>middel_bb</th>\n      <th>lower_bb</th>\n    </tr>\n  </thead>\n  <tbody>\n    <tr>\n      <th>33</th>\n      <td>12697.0</td>\n      <td>68.966499</td>\n      <td>67.746071</td>\n      <td>68.518173</td>\n      <td>68.284058</td>\n      <td>13445007</td>\n      <td>80.315879</td>\n      <td>2.988800</td>\n      <td>90.925916</td>\n      <td>87.770443</td>\n      <td>4.352631</td>\n      <td>3.500605</td>\n      <td>0.852026</td>\n      <td>48.206481</td>\n      <td>57.207240</td>\n      <td>70.315640</td>\n      <td>67.176659</td>\n      <td>64.037677</td>\n    </tr>\n    <tr>\n      <th>34</th>\n      <td>12698.0</td>\n      <td>69.678825</td>\n      <td>68.020042</td>\n      <td>68.204353</td>\n      <td>69.165749</td>\n      <td>14182160</td>\n      <td>83.169395</td>\n      <td>4.607727</td>\n      <td>91.420462</td>\n      <td>91.189372</td>\n      <td>4.459865</td>\n      <td>3.692457</td>\n      <td>0.767408</td>\n      <td>49.234825</td>\n      <td>57.752695</td>\n      <td>70.409909</td>\n      <td>68.106270</td>\n      <td>65.802631</td>\n    </tr>\n    <tr>\n      <th>35</th>\n      <td>12699.0</td>\n      <td>69.579201</td>\n      <td>68.254166</td>\n      <td>69.100990</td>\n      <td>68.607841</td>\n      <td>11122133</td>\n      <td>74.614000</td>\n      <td>2.565384</td>\n      <td>82.473639</td>\n      <td>88.273339</td>\n      <td>4.448550</td>\n      <td>3.843675</td>\n      <td>0.604875</td>\n      <td>50.189717</td>\n      <td>58.247839</td>\n      <td>70.079619</td>\n      <td>68.763290</td>\n      <td>67.446962</td>\n    </tr>\n    <tr>\n      <th>36</th>\n      <td>12702.0</td>\n      <td>69.170731</td>\n      <td>66.675087</td>\n      <td>68.244202</td>\n      <td>67.377457</td>\n      <td>10521891</td>\n      <td>58.129902</td>\n      <td>0.099632</td>\n      <td>67.335623</td>\n      <td>80.409908</td>\n      <td>4.290839</td>\n      <td>3.933108</td>\n      <td>0.357731</td>\n      <td>49.795899</td>\n      <td>58.731195</td>\n      <td>70.258230</td>\n      <td>69.012505</td>\n      <td>67.766781</td>\n    </tr>\n    <tr>\n      <th>37</th>\n      <td>12703.0</td>\n      <td>68.548065</td>\n      <td>66.450928</td>\n      <td>66.968987</td>\n      <td>68.443459</td>\n      <td>11720969</td>\n      <td>66.213656</td>\n      <td>-0.483185</td>\n      <td>57.705333</td>\n      <td>69.171532</td>\n      <td>4.203415</td>\n      <td>3.987170</td>\n      <td>0.216246</td>\n      <td>49.258923</td>\n      <td>59.318825</td>\n      <td>70.241249</td>\n      <td>69.079338</td>\n      <td>67.917427</td>\n    </tr>\n    <tr>\n      <th>...</th>\n      <td>...</td>\n      <td>...</td>\n      <td>...</td>\n      <td>...</td>\n      <td>...</td>\n      <td>...</td>\n      <td>...</td>\n      <td>...</td>\n      <td>...</td>\n      <td>...</td>\n      <td>...</td>\n      <td>...</td>\n      <td>...</td>\n      <td>...</td>\n      <td>...</td>\n      <td>...</td>\n      <td>...</td>\n      <td>...</td>\n    </tr>\n    <tr>\n      <th>3368</th>\n      <td>17535.0</td>\n      <td>1093.569946</td>\n      <td>1084.001953</td>\n      <td>1088.000000</td>\n      <td>1086.400024</td>\n      <td>1004600</td>\n      <td>81.606064</td>\n      <td>37.030029</td>\n      <td>89.126916</td>\n      <td>63.467050</td>\n      <td>12.009556</td>\n      <td>10.579442</td>\n      <td>1.430114</td>\n      <td>28.021263</td>\n      <td>1045.422998</td>\n      <td>1097.084741</td>\n      <td>1063.721412</td>\n      <td>1030.358084</td>\n    </tr>\n    <tr>\n      <th>3369</th>\n      <td>17536.0</td>\n      <td>1104.250000</td>\n      <td>1092.000000</td>\n      <td>1094.000000</td>\n      <td>1102.229980</td>\n      <td>1279100</td>\n      <td>87.616769</td>\n      <td>54.089966</td>\n      <td>90.909168</td>\n      <td>81.174514</td>\n      <td>14.284510</td>\n      <td>11.320455</td>\n      <td>2.964054</td>\n      <td>29.836443</td>\n      <td>1047.680998</td>\n      <td>1110.603580</td>\n      <td>1072.298896</td>\n      <td>1033.994212</td>\n    </tr>\n    <tr>\n      <th>3370</th>\n      <td>17539.0</td>\n      <td>1111.270020</td>\n      <td>1101.619995</td>\n      <td>1102.229980</td>\n      <td>1106.939941</td>\n      <td>1047600</td>\n      <td>88.958668</td>\n      <td>60.539917</td>\n      <td>91.782399</td>\n      <td>90.606161</td>\n      <td>16.279818</td>\n      <td>12.312328</td>\n      <td>3.967490</td>\n      <td>31.751692</td>\n      <td>1050.046997</td>\n      <td>1112.133026</td>\n      <td>1082.181280</td>\n      <td>1052.229534</td>\n    </tr>\n    <tr>\n      <th>3371</th>\n      <td>17540.0</td>\n      <td>1110.569946</td>\n      <td>1101.230957</td>\n      <td>1109.400024</td>\n      <td>1106.260010</td>\n      <td>902500</td>\n      <td>87.252500</td>\n      <td>41.260010</td>\n      <td>93.205068</td>\n      <td>91.965545</td>\n      <td>17.603329</td>\n      <td>13.370528</td>\n      <td>4.232801</td>\n      <td>33.484206</td>\n      <td>1052.235331</td>\n      <td>1112.111141</td>\n      <td>1091.423017</td>\n      <td>1070.734892</td>\n    </tr>\n    <tr>\n      <th>3372</th>\n      <td>17541.0</td>\n      <td>1104.599976</td>\n      <td>1096.109985</td>\n      <td>1097.099976</td>\n      <td>1102.609985</td>\n      <td>1042800</td>\n      <td>77.303629</td>\n      <td>20.130005</td>\n      <td>83.753297</td>\n      <td>89.580254</td>\n      <td>18.148490</td>\n      <td>14.326120</td>\n      <td>3.822369</td>\n      <td>34.480174</td>\n      <td>1053.848665</td>\n      <td>1113.459453</td>\n      <td>1098.488760</td>\n      <td>1083.518067</td>\n    </tr>\n  </tbody>\n</table>\n<p>3340 rows × 18 columns</p>\n</div>"
     },
     "metadata": {},
     "execution_count": 32
    }
   ],
   "source": [
    "train_X"
   ]
  },
  {
   "cell_type": "code",
   "execution_count": 33,
   "metadata": {},
   "outputs": [
    {
     "output_type": "execute_result",
     "data": {
      "text/plain": [
       "33      1\n",
       "34      1\n",
       "35      1\n",
       "36      1\n",
       "37      1\n",
       "       ..\n",
       "3368    1\n",
       "3369    1\n",
       "3370    1\n",
       "3371    1\n",
       "3372    1\n",
       "Name: next_5day_trend, Length: 3340, dtype: int64"
      ]
     },
     "metadata": {},
     "execution_count": 33
    }
   ],
   "source": [
    "train_y"
   ]
  },
  {
   "cell_type": "code",
   "execution_count": 34,
   "metadata": {},
   "outputs": [],
   "source": [
    "train_x_2 = train_X.copy()\n",
    "\n",
    "train_y_2 = train_y.copy()\n",
    "\n",
    "test_x_2 = test_X.copy()\n",
    "\n",
    "test_y_2 = test_y.copy()"
   ]
  },
  {
   "cell_type": "code",
   "execution_count": 45,
   "metadata": {},
   "outputs": [],
   "source": [
    "df2 = df.copy()\n",
    "\n"
   ]
  },
  {
   "cell_type": "code",
   "execution_count": 37,
   "metadata": {},
   "outputs": [],
   "source": [
    "# Helper Functions\n",
    "# In order to print all performance metrics relevant to a regression task (such as MAE and R-square), we will be defining the regression_results function.\n",
    "\n",
    "import sklearn.metrics as metrics\n",
    "def regression_results(y_true, y_pred):\n",
    "    # Regression metrics\n",
    "    explained_variance=metrics.explained_variance_score(y_true, y_pred)\n",
    "    mean_absolute_error=metrics.mean_absolute_error(y_true, y_pred) \n",
    "    mse=metrics.mean_squared_error(y_true, y_pred) \n",
    "    mean_squared_log_error=metrics.mean_squared_log_error(y_true, y_pred)\n",
    "    median_absolute_error=metrics.median_absolute_error(y_true, y_pred)\n",
    "    r2=metrics.r2_score(y_true, y_pred)\n",
    "    print('explained_variance: ', round(explained_variance,4))    \n",
    "    print('mean_squared_log_error: ', round(mean_squared_log_error,4))\n",
    "    print('r2: ', round(r2,4))\n",
    "    print('MAE: ', round(mean_absolute_error,4))\n",
    "    print('MSE: ', round(mse,4))\n",
    "    print('RMSE: ', round(np.sqrt(mse),4))"
   ]
  },
  {
   "cell_type": "code",
   "execution_count": 51,
   "metadata": {},
   "outputs": [],
   "source": [
    "# use the difference between today and today - 1, today - 1 and today - 2, ... today - 4 and today - 5\n",
    "\n",
    "df3 = pd.DataFrame()\n",
    "\n",
    "for columnName in df2.columns:\n",
    "    if columnName != \"date\" and columnName != \"next_5day_trend\":\n",
    "        column = df2[[columnName]]\n",
    "\n",
    "        df3.loc[:,'shift1' + columnName] = df2.loc[:,columnName].shift() - df2.loc[:,columnName]\n",
    "\n",
    "        df3.loc[:,'shift2' + columnName] = df2.loc[:,columnName].shift().shift() - df2.loc[:,columnName].shift()\n",
    "\n",
    "        df3.loc[:,'shift3' + columnName] = df2.loc[:,columnName].shift().shift().shift() - df2.loc[:,columnName].shift().shift()\n",
    "\n",
    "        df3.loc[:,'shift4' + columnName] = df2.loc[:,columnName].shift().shift().shift().shift() - df2.loc[:,columnName].shift().shift().shift()\n",
    "\n",
    "        df3.loc[:,'shift5' + columnName] = df2.loc[:,columnName].shift().shift().shift().shift().shift() - df2.loc[:,columnName].shift().shift().shift().shift()\n",
    "\n",
    "\n",
    "#add date and and next_5day_trend, then drop na\n",
    "df3[\"date\"] = df2[\"date\"]\n",
    "df3[\"next_5day_trend\"] = df2[\"next_5day_trend\"]\n",
    "df3 = df3.dropna()\n",
    "\n"
   ]
  },
  {
   "cell_type": "code",
   "execution_count": 52,
   "metadata": {},
   "outputs": [
    {
     "output_type": "execute_result",
     "data": {
      "text/plain": [
       "    shift1high  shift2high  shift3high  shift4high  shift5high  shift1low  \\\n",
       "38   -2.958908    0.622665    0.408470    0.099625   -0.712326  -3.327522   \n",
       "39    0.582817   -2.958908    0.622665    0.408470    0.099625   0.757156   \n",
       "40   -1.554176    0.582817   -2.958908    0.622665    0.408470  -1.688667   \n",
       "41   -1.843094   -1.554176    0.582817   -2.958908    0.622665   0.368614   \n",
       "42   -1.594025   -1.843094   -1.554176    0.582817   -2.958908  -3.058533   \n",
       "\n",
       "    shift2low  shift3low  shift4low  shift5low  ...  shift3middel_bb  \\\n",
       "38   0.224159   1.579079  -0.234123  -0.273972  ...        -0.249215   \n",
       "39  -3.327522   0.224159   1.579079  -0.234123  ...        -0.066833   \n",
       "40   0.757156  -3.327522   0.224159   1.579079  ...        -0.186393   \n",
       "41  -1.688667   0.757156  -3.327522   0.224159  ...        -0.349850   \n",
       "42   0.368614  -1.688667   0.757156  -3.327522  ...        -0.533776   \n",
       "\n",
       "    shift4middel_bb  shift5middel_bb  shift1lower_bb  shift2lower_bb  \\\n",
       "38        -0.657020        -0.929611        0.492444       -0.150647   \n",
       "39        -0.249215        -0.657020        0.257283        0.492444   \n",
       "40        -0.066833        -0.249215        0.197283        0.257283   \n",
       "41        -0.186393        -0.066833       -0.185049        0.197283   \n",
       "42        -0.349850        -0.186393       -1.592575       -0.185049   \n",
       "\n",
       "    shift3lower_bb  shift4lower_bb  shift5lower_bb     date  next_5day_trend  \n",
       "38       -0.319819       -1.644331       -1.764954  12704.0                0  \n",
       "39       -0.150647       -0.319819       -1.644331  12705.0                1  \n",
       "40        0.492444       -0.150647       -0.319819  12706.0                1  \n",
       "41        0.257283        0.492444       -0.150647  12709.0                1  \n",
       "42        0.197283        0.257283        0.492444  12710.0                1  \n",
       "\n",
       "[5 rows x 87 columns]"
      ],
      "text/html": "<div>\n<style scoped>\n    .dataframe tbody tr th:only-of-type {\n        vertical-align: middle;\n    }\n\n    .dataframe tbody tr th {\n        vertical-align: top;\n    }\n\n    .dataframe thead th {\n        text-align: right;\n    }\n</style>\n<table border=\"1\" class=\"dataframe\">\n  <thead>\n    <tr style=\"text-align: right;\">\n      <th></th>\n      <th>shift1high</th>\n      <th>shift2high</th>\n      <th>shift3high</th>\n      <th>shift4high</th>\n      <th>shift5high</th>\n      <th>shift1low</th>\n      <th>shift2low</th>\n      <th>shift3low</th>\n      <th>shift4low</th>\n      <th>shift5low</th>\n      <th>...</th>\n      <th>shift3middel_bb</th>\n      <th>shift4middel_bb</th>\n      <th>shift5middel_bb</th>\n      <th>shift1lower_bb</th>\n      <th>shift2lower_bb</th>\n      <th>shift3lower_bb</th>\n      <th>shift4lower_bb</th>\n      <th>shift5lower_bb</th>\n      <th>date</th>\n      <th>next_5day_trend</th>\n    </tr>\n  </thead>\n  <tbody>\n    <tr>\n      <th>38</th>\n      <td>-2.958908</td>\n      <td>0.622665</td>\n      <td>0.408470</td>\n      <td>0.099625</td>\n      <td>-0.712326</td>\n      <td>-3.327522</td>\n      <td>0.224159</td>\n      <td>1.579079</td>\n      <td>-0.234123</td>\n      <td>-0.273972</td>\n      <td>...</td>\n      <td>-0.249215</td>\n      <td>-0.657020</td>\n      <td>-0.929611</td>\n      <td>0.492444</td>\n      <td>-0.150647</td>\n      <td>-0.319819</td>\n      <td>-1.644331</td>\n      <td>-1.764954</td>\n      <td>12704.0</td>\n      <td>0</td>\n    </tr>\n    <tr>\n      <th>39</th>\n      <td>0.582817</td>\n      <td>-2.958908</td>\n      <td>0.622665</td>\n      <td>0.408470</td>\n      <td>0.099625</td>\n      <td>0.757156</td>\n      <td>-3.327522</td>\n      <td>0.224159</td>\n      <td>1.579079</td>\n      <td>-0.234123</td>\n      <td>...</td>\n      <td>-0.066833</td>\n      <td>-0.249215</td>\n      <td>-0.657020</td>\n      <td>0.257283</td>\n      <td>0.492444</td>\n      <td>-0.150647</td>\n      <td>-0.319819</td>\n      <td>-1.644331</td>\n      <td>12705.0</td>\n      <td>1</td>\n    </tr>\n    <tr>\n      <th>40</th>\n      <td>-1.554176</td>\n      <td>0.582817</td>\n      <td>-2.958908</td>\n      <td>0.622665</td>\n      <td>0.408470</td>\n      <td>-1.688667</td>\n      <td>0.757156</td>\n      <td>-3.327522</td>\n      <td>0.224159</td>\n      <td>1.579079</td>\n      <td>...</td>\n      <td>-0.186393</td>\n      <td>-0.066833</td>\n      <td>-0.249215</td>\n      <td>0.197283</td>\n      <td>0.257283</td>\n      <td>0.492444</td>\n      <td>-0.150647</td>\n      <td>-0.319819</td>\n      <td>12706.0</td>\n      <td>1</td>\n    </tr>\n    <tr>\n      <th>41</th>\n      <td>-1.843094</td>\n      <td>-1.554176</td>\n      <td>0.582817</td>\n      <td>-2.958908</td>\n      <td>0.622665</td>\n      <td>0.368614</td>\n      <td>-1.688667</td>\n      <td>0.757156</td>\n      <td>-3.327522</td>\n      <td>0.224159</td>\n      <td>...</td>\n      <td>-0.349850</td>\n      <td>-0.186393</td>\n      <td>-0.066833</td>\n      <td>-0.185049</td>\n      <td>0.197283</td>\n      <td>0.257283</td>\n      <td>0.492444</td>\n      <td>-0.150647</td>\n      <td>12709.0</td>\n      <td>1</td>\n    </tr>\n    <tr>\n      <th>42</th>\n      <td>-1.594025</td>\n      <td>-1.843094</td>\n      <td>-1.554176</td>\n      <td>0.582817</td>\n      <td>-2.958908</td>\n      <td>-3.058533</td>\n      <td>0.368614</td>\n      <td>-1.688667</td>\n      <td>0.757156</td>\n      <td>-3.327522</td>\n      <td>...</td>\n      <td>-0.533776</td>\n      <td>-0.349850</td>\n      <td>-0.186393</td>\n      <td>-1.592575</td>\n      <td>-0.185049</td>\n      <td>0.197283</td>\n      <td>0.257283</td>\n      <td>0.492444</td>\n      <td>12710.0</td>\n      <td>1</td>\n    </tr>\n  </tbody>\n</table>\n<p>5 rows × 87 columns</p>\n</div>"
     },
     "metadata": {},
     "execution_count": 52
    }
   ],
   "source": [
    "df3.head()"
   ]
  },
  {
   "cell_type": "code",
   "execution_count": null,
   "metadata": {},
   "outputs": [],
   "source": [
    "X_train = df3.drop(['next_5day_trend'], axis = 1)\n",
    "y_train = df3[\"next_5day_trend\"]\n",
    "X_test = data_consumption['2017'].drop(['Consumption'], axis = 1)\n",
    "y_test = data_consumption.loc['2017', 'Consumption']"
   ]
  },
  {
   "cell_type": "code",
   "execution_count": 53,
   "metadata": {},
   "outputs": [],
   "source": [
    "train_size = int(len(df3) * 0.8)\n",
    "train = df3.iloc[:train_size, :]\n",
    "test = df3.iloc[train_size:, :]\n",
    "\n",
    "target_name = df.columns[-1]\n",
    "train_X = train.drop(target_name, axis = 1)\n",
    "train_y = train[target_name]\n",
    "\n",
    "test_X = test.drop(target_name, axis = 1)\n",
    "test_y = test[target_name]"
   ]
  },
  {
   "cell_type": "code",
   "execution_count": 54,
   "metadata": {},
   "outputs": [
    {
     "output_type": "execute_result",
     "data": {
      "text/plain": [
       "    shift1high  shift2high  shift3high  shift4high  shift5high  shift1low  \\\n",
       "38   -2.958908    0.622665    0.408470    0.099625   -0.712326  -3.327522   \n",
       "39    0.582817   -2.958908    0.622665    0.408470    0.099625   0.757156   \n",
       "40   -1.554176    0.582817   -2.958908    0.622665    0.408470  -1.688667   \n",
       "41   -1.843094   -1.554176    0.582817   -2.958908    0.622665   0.368614   \n",
       "42   -1.594025   -1.843094   -1.554176    0.582817   -2.958908  -3.058533   \n",
       "\n",
       "    shift2low  shift3low  shift4low  shift5low  ...  shift2middel_bb  \\\n",
       "38   0.224159   1.579079  -0.234123  -0.273972  ...        -0.066833   \n",
       "39  -3.327522   0.224159   1.579079  -0.234123  ...        -0.186393   \n",
       "40   0.757156  -3.327522   0.224159   1.579079  ...        -0.349850   \n",
       "41  -1.688667   0.757156  -3.327522   0.224159  ...        -0.533776   \n",
       "42   0.368614  -1.688667   0.757156  -3.327522  ...        -0.878460   \n",
       "\n",
       "    shift3middel_bb  shift4middel_bb  shift5middel_bb  shift1lower_bb  \\\n",
       "38        -0.249215        -0.657020        -0.929611        0.492444   \n",
       "39        -0.066833        -0.249215        -0.657020        0.257283   \n",
       "40        -0.186393        -0.066833        -0.249215        0.197283   \n",
       "41        -0.349850        -0.186393        -0.066833       -0.185049   \n",
       "42        -0.533776        -0.349850        -0.186393       -1.592575   \n",
       "\n",
       "    shift2lower_bb  shift3lower_bb  shift4lower_bb  shift5lower_bb     date  \n",
       "38       -0.150647       -0.319819       -1.644331       -1.764954  12704.0  \n",
       "39        0.492444       -0.150647       -0.319819       -1.644331  12705.0  \n",
       "40        0.257283        0.492444       -0.150647       -0.319819  12706.0  \n",
       "41        0.197283        0.257283        0.492444       -0.150647  12709.0  \n",
       "42       -0.185049        0.197283        0.257283        0.492444  12710.0  \n",
       "\n",
       "[5 rows x 86 columns]"
      ],
      "text/html": "<div>\n<style scoped>\n    .dataframe tbody tr th:only-of-type {\n        vertical-align: middle;\n    }\n\n    .dataframe tbody tr th {\n        vertical-align: top;\n    }\n\n    .dataframe thead th {\n        text-align: right;\n    }\n</style>\n<table border=\"1\" class=\"dataframe\">\n  <thead>\n    <tr style=\"text-align: right;\">\n      <th></th>\n      <th>shift1high</th>\n      <th>shift2high</th>\n      <th>shift3high</th>\n      <th>shift4high</th>\n      <th>shift5high</th>\n      <th>shift1low</th>\n      <th>shift2low</th>\n      <th>shift3low</th>\n      <th>shift4low</th>\n      <th>shift5low</th>\n      <th>...</th>\n      <th>shift2middel_bb</th>\n      <th>shift3middel_bb</th>\n      <th>shift4middel_bb</th>\n      <th>shift5middel_bb</th>\n      <th>shift1lower_bb</th>\n      <th>shift2lower_bb</th>\n      <th>shift3lower_bb</th>\n      <th>shift4lower_bb</th>\n      <th>shift5lower_bb</th>\n      <th>date</th>\n    </tr>\n  </thead>\n  <tbody>\n    <tr>\n      <th>38</th>\n      <td>-2.958908</td>\n      <td>0.622665</td>\n      <td>0.408470</td>\n      <td>0.099625</td>\n      <td>-0.712326</td>\n      <td>-3.327522</td>\n      <td>0.224159</td>\n      <td>1.579079</td>\n      <td>-0.234123</td>\n      <td>-0.273972</td>\n      <td>...</td>\n      <td>-0.066833</td>\n      <td>-0.249215</td>\n      <td>-0.657020</td>\n      <td>-0.929611</td>\n      <td>0.492444</td>\n      <td>-0.150647</td>\n      <td>-0.319819</td>\n      <td>-1.644331</td>\n      <td>-1.764954</td>\n      <td>12704.0</td>\n    </tr>\n    <tr>\n      <th>39</th>\n      <td>0.582817</td>\n      <td>-2.958908</td>\n      <td>0.622665</td>\n      <td>0.408470</td>\n      <td>0.099625</td>\n      <td>0.757156</td>\n      <td>-3.327522</td>\n      <td>0.224159</td>\n      <td>1.579079</td>\n      <td>-0.234123</td>\n      <td>...</td>\n      <td>-0.186393</td>\n      <td>-0.066833</td>\n      <td>-0.249215</td>\n      <td>-0.657020</td>\n      <td>0.257283</td>\n      <td>0.492444</td>\n      <td>-0.150647</td>\n      <td>-0.319819</td>\n      <td>-1.644331</td>\n      <td>12705.0</td>\n    </tr>\n    <tr>\n      <th>40</th>\n      <td>-1.554176</td>\n      <td>0.582817</td>\n      <td>-2.958908</td>\n      <td>0.622665</td>\n      <td>0.408470</td>\n      <td>-1.688667</td>\n      <td>0.757156</td>\n      <td>-3.327522</td>\n      <td>0.224159</td>\n      <td>1.579079</td>\n      <td>...</td>\n      <td>-0.349850</td>\n      <td>-0.186393</td>\n      <td>-0.066833</td>\n      <td>-0.249215</td>\n      <td>0.197283</td>\n      <td>0.257283</td>\n      <td>0.492444</td>\n      <td>-0.150647</td>\n      <td>-0.319819</td>\n      <td>12706.0</td>\n    </tr>\n    <tr>\n      <th>41</th>\n      <td>-1.843094</td>\n      <td>-1.554176</td>\n      <td>0.582817</td>\n      <td>-2.958908</td>\n      <td>0.622665</td>\n      <td>0.368614</td>\n      <td>-1.688667</td>\n      <td>0.757156</td>\n      <td>-3.327522</td>\n      <td>0.224159</td>\n      <td>...</td>\n      <td>-0.533776</td>\n      <td>-0.349850</td>\n      <td>-0.186393</td>\n      <td>-0.066833</td>\n      <td>-0.185049</td>\n      <td>0.197283</td>\n      <td>0.257283</td>\n      <td>0.492444</td>\n      <td>-0.150647</td>\n      <td>12709.0</td>\n    </tr>\n    <tr>\n      <th>42</th>\n      <td>-1.594025</td>\n      <td>-1.843094</td>\n      <td>-1.554176</td>\n      <td>0.582817</td>\n      <td>-2.958908</td>\n      <td>-3.058533</td>\n      <td>0.368614</td>\n      <td>-1.688667</td>\n      <td>0.757156</td>\n      <td>-3.327522</td>\n      <td>...</td>\n      <td>-0.878460</td>\n      <td>-0.533776</td>\n      <td>-0.349850</td>\n      <td>-0.186393</td>\n      <td>-1.592575</td>\n      <td>-0.185049</td>\n      <td>0.197283</td>\n      <td>0.257283</td>\n      <td>0.492444</td>\n      <td>12710.0</td>\n    </tr>\n  </tbody>\n</table>\n<p>5 rows × 86 columns</p>\n</div>"
     },
     "metadata": {},
     "execution_count": 54
    }
   ],
   "source": [
    "train_X.head()"
   ]
  },
  {
   "cell_type": "code",
   "execution_count": 62,
   "metadata": {},
   "outputs": [
    {
     "output_type": "stream",
     "name": "stdout",
     "text": [
      "LR: -0.146349 (0.102539)\n",
      "/usr/local/lib/python3.9/site-packages/sklearn/neural_network/_multilayer_perceptron.py:500: ConvergenceWarning: lbfgs failed to converge (status=1):\n",
      "STOP: TOTAL NO. of ITERATIONS REACHED LIMIT.\n",
      "\n",
      "Increase the number of iterations (max_iter) or scale the data as shown in:\n",
      "    https://scikit-learn.org/stable/modules/preprocessing.html\n",
      "  self.n_iter_ = _check_optimize_result(\"lbfgs\", opt_res, self.max_iter)\n",
      "/usr/local/lib/python3.9/site-packages/sklearn/neural_network/_multilayer_perceptron.py:500: ConvergenceWarning: lbfgs failed to converge (status=1):\n",
      "STOP: TOTAL NO. of ITERATIONS REACHED LIMIT.\n",
      "\n",
      "Increase the number of iterations (max_iter) or scale the data as shown in:\n",
      "    https://scikit-learn.org/stable/modules/preprocessing.html\n",
      "  self.n_iter_ = _check_optimize_result(\"lbfgs\", opt_res, self.max_iter)\n",
      "/usr/local/lib/python3.9/site-packages/sklearn/neural_network/_multilayer_perceptron.py:500: ConvergenceWarning: lbfgs failed to converge (status=1):\n",
      "STOP: TOTAL NO. of ITERATIONS REACHED LIMIT.\n",
      "\n",
      "Increase the number of iterations (max_iter) or scale the data as shown in:\n",
      "    https://scikit-learn.org/stable/modules/preprocessing.html\n",
      "  self.n_iter_ = _check_optimize_result(\"lbfgs\", opt_res, self.max_iter)\n",
      "/usr/local/lib/python3.9/site-packages/sklearn/neural_network/_multilayer_perceptron.py:500: ConvergenceWarning: lbfgs failed to converge (status=1):\n",
      "STOP: TOTAL NO. of ITERATIONS REACHED LIMIT.\n",
      "\n",
      "Increase the number of iterations (max_iter) or scale the data as shown in:\n",
      "    https://scikit-learn.org/stable/modules/preprocessing.html\n",
      "  self.n_iter_ = _check_optimize_result(\"lbfgs\", opt_res, self.max_iter)\n",
      "/usr/local/lib/python3.9/site-packages/sklearn/neural_network/_multilayer_perceptron.py:500: ConvergenceWarning: lbfgs failed to converge (status=1):\n",
      "STOP: TOTAL NO. of ITERATIONS REACHED LIMIT.\n",
      "\n",
      "Increase the number of iterations (max_iter) or scale the data as shown in:\n",
      "    https://scikit-learn.org/stable/modules/preprocessing.html\n",
      "  self.n_iter_ = _check_optimize_result(\"lbfgs\", opt_res, self.max_iter)\n",
      "NN: -581033328.843610 (909077417.984463)\n",
      "KNN: -0.204730 (0.034376)\n",
      "RF: -0.138617 (0.049247)\n",
      "SVR: -0.005037 (0.003024)\n"
     ]
    },
    {
     "output_type": "display_data",
     "data": {
      "text/plain": "<Figure size 432x288 with 1 Axes>",
      "image/svg+xml": "<?xml version=\"1.0\" encoding=\"utf-8\" standalone=\"no\"?>\n<!DOCTYPE svg PUBLIC \"-//W3C//DTD SVG 1.1//EN\"\n  \"http://www.w3.org/Graphics/SVG/1.1/DTD/svg11.dtd\">\n<!-- Created with matplotlib (https://matplotlib.org/) -->\n<svg height=\"263.63625pt\" version=\"1.1\" viewBox=\"0 0 380.482812 263.63625\" width=\"380.482812pt\" xmlns=\"http://www.w3.org/2000/svg\" xmlns:xlink=\"http://www.w3.org/1999/xlink\">\n <metadata>\n  <rdf:RDF xmlns:cc=\"http://creativecommons.org/ns#\" xmlns:dc=\"http://purl.org/dc/elements/1.1/\" xmlns:rdf=\"http://www.w3.org/1999/02/22-rdf-syntax-ns#\">\n   <cc:Work>\n    <dc:type rdf:resource=\"http://purl.org/dc/dcmitype/StillImage\"/>\n    <dc:date>2021-05-10T15:39:31.332643</dc:date>\n    <dc:format>image/svg+xml</dc:format>\n    <dc:creator>\n     <cc:Agent>\n      <dc:title>Matplotlib v3.3.4, https://matplotlib.org/</dc:title>\n     </cc:Agent>\n    </dc:creator>\n   </cc:Work>\n  </rdf:RDF>\n </metadata>\n <defs>\n  <style type=\"text/css\">*{stroke-linecap:butt;stroke-linejoin:round;}</style>\n </defs>\n <g id=\"figure_1\">\n  <g id=\"patch_1\">\n   <path d=\"M -0 263.63625 \nL 380.482812 263.63625 \nL 380.482812 0 \nL -0 0 \nz\n\" style=\"fill:none;\"/>\n  </g>\n  <g id=\"axes_1\">\n   <g id=\"patch_2\">\n    <path d=\"M 38.482813 239.758125 \nL 373.282813 239.758125 \nL 373.282813 22.318125 \nL 38.482813 22.318125 \nz\n\" style=\"fill:#ffffff;\"/>\n   </g>\n   <g id=\"matplotlib.axis_1\">\n    <g id=\"xtick_1\">\n     <g id=\"line2d_1\">\n      <defs>\n       <path d=\"M 0 0 \nL 0 3.5 \n\" id=\"m4a4c3fba6f\" style=\"stroke:#000000;stroke-width:0.8;\"/>\n      </defs>\n      <g>\n       <use style=\"stroke:#000000;stroke-width:0.8;\" x=\"71.962813\" xlink:href=\"#m4a4c3fba6f\" y=\"239.758125\"/>\n      </g>\n     </g>\n     <g id=\"text_1\">\n      <!-- LR -->\n      <g transform=\"translate(65.702656 254.356563)scale(0.1 -0.1)\">\n       <defs>\n        <path d=\"M 9.8125 72.90625 \nL 19.671875 72.90625 \nL 19.671875 8.296875 \nL 55.171875 8.296875 \nL 55.171875 0 \nL 9.8125 0 \nz\n\" id=\"DejaVuSans-76\"/>\n        <path d=\"M 44.390625 34.1875 \nQ 47.5625 33.109375 50.5625 29.59375 \nQ 53.5625 26.078125 56.59375 19.921875 \nL 66.609375 0 \nL 56 0 \nL 46.6875 18.703125 \nQ 43.0625 26.03125 39.671875 28.421875 \nQ 36.28125 30.8125 30.421875 30.8125 \nL 19.671875 30.8125 \nL 19.671875 0 \nL 9.8125 0 \nL 9.8125 72.90625 \nL 32.078125 72.90625 \nQ 44.578125 72.90625 50.734375 67.671875 \nQ 56.890625 62.453125 56.890625 51.90625 \nQ 56.890625 45.015625 53.6875 40.46875 \nQ 50.484375 35.9375 44.390625 34.1875 \nz\nM 19.671875 64.796875 \nL 19.671875 38.921875 \nL 32.078125 38.921875 \nQ 39.203125 38.921875 42.84375 42.21875 \nQ 46.484375 45.515625 46.484375 51.90625 \nQ 46.484375 58.296875 42.84375 61.546875 \nQ 39.203125 64.796875 32.078125 64.796875 \nz\n\" id=\"DejaVuSans-82\"/>\n       </defs>\n       <use xlink:href=\"#DejaVuSans-76\"/>\n       <use x=\"55.712891\" xlink:href=\"#DejaVuSans-82\"/>\n      </g>\n     </g>\n    </g>\n    <g id=\"xtick_2\">\n     <g id=\"line2d_2\">\n      <g>\n       <use style=\"stroke:#000000;stroke-width:0.8;\" x=\"138.922813\" xlink:href=\"#m4a4c3fba6f\" y=\"239.758125\"/>\n      </g>\n     </g>\n     <g id=\"text_2\">\n      <!-- NN -->\n      <g transform=\"translate(131.441563 254.356563)scale(0.1 -0.1)\">\n       <defs>\n        <path d=\"M 9.8125 72.90625 \nL 23.09375 72.90625 \nL 55.421875 11.921875 \nL 55.421875 72.90625 \nL 64.984375 72.90625 \nL 64.984375 0 \nL 51.703125 0 \nL 19.390625 60.984375 \nL 19.390625 0 \nL 9.8125 0 \nz\n\" id=\"DejaVuSans-78\"/>\n       </defs>\n       <use xlink:href=\"#DejaVuSans-78\"/>\n       <use x=\"74.804688\" xlink:href=\"#DejaVuSans-78\"/>\n      </g>\n     </g>\n    </g>\n    <g id=\"xtick_3\">\n     <g id=\"line2d_3\">\n      <g>\n       <use style=\"stroke:#000000;stroke-width:0.8;\" x=\"205.882813\" xlink:href=\"#m4a4c3fba6f\" y=\"239.758125\"/>\n      </g>\n     </g>\n     <g id=\"text_3\">\n      <!-- KNN -->\n      <g transform=\"translate(195.122656 254.356563)scale(0.1 -0.1)\">\n       <defs>\n        <path d=\"M 9.8125 72.90625 \nL 19.671875 72.90625 \nL 19.671875 42.09375 \nL 52.390625 72.90625 \nL 65.09375 72.90625 \nL 28.90625 38.921875 \nL 67.671875 0 \nL 54.6875 0 \nL 19.671875 35.109375 \nL 19.671875 0 \nL 9.8125 0 \nz\n\" id=\"DejaVuSans-75\"/>\n       </defs>\n       <use xlink:href=\"#DejaVuSans-75\"/>\n       <use x=\"65.576172\" xlink:href=\"#DejaVuSans-78\"/>\n       <use x=\"140.380859\" xlink:href=\"#DejaVuSans-78\"/>\n      </g>\n     </g>\n    </g>\n    <g id=\"xtick_4\">\n     <g id=\"line2d_4\">\n      <g>\n       <use style=\"stroke:#000000;stroke-width:0.8;\" x=\"272.842813\" xlink:href=\"#m4a4c3fba6f\" y=\"239.758125\"/>\n      </g>\n     </g>\n     <g id=\"text_4\">\n      <!-- RF -->\n      <g transform=\"translate(266.492813 254.356563)scale(0.1 -0.1)\">\n       <defs>\n        <path d=\"M 9.8125 72.90625 \nL 51.703125 72.90625 \nL 51.703125 64.59375 \nL 19.671875 64.59375 \nL 19.671875 43.109375 \nL 48.578125 43.109375 \nL 48.578125 34.8125 \nL 19.671875 34.8125 \nL 19.671875 0 \nL 9.8125 0 \nz\n\" id=\"DejaVuSans-70\"/>\n       </defs>\n       <use xlink:href=\"#DejaVuSans-82\"/>\n       <use x=\"69.482422\" xlink:href=\"#DejaVuSans-70\"/>\n      </g>\n     </g>\n    </g>\n    <g id=\"xtick_5\">\n     <g id=\"line2d_5\">\n      <g>\n       <use style=\"stroke:#000000;stroke-width:0.8;\" x=\"339.802813\" xlink:href=\"#m4a4c3fba6f\" y=\"239.758125\"/>\n      </g>\n     </g>\n     <g id=\"text_5\">\n      <!-- SVR -->\n      <g transform=\"translate(329.734063 254.356563)scale(0.1 -0.1)\">\n       <defs>\n        <path d=\"M 53.515625 70.515625 \nL 53.515625 60.890625 \nQ 47.90625 63.578125 42.921875 64.890625 \nQ 37.9375 66.21875 33.296875 66.21875 \nQ 25.25 66.21875 20.875 63.09375 \nQ 16.5 59.96875 16.5 54.203125 \nQ 16.5 49.359375 19.40625 46.890625 \nQ 22.3125 44.4375 30.421875 42.921875 \nL 36.375 41.703125 \nQ 47.40625 39.59375 52.65625 34.296875 \nQ 57.90625 29 57.90625 20.125 \nQ 57.90625 9.515625 50.796875 4.046875 \nQ 43.703125 -1.421875 29.984375 -1.421875 \nQ 24.8125 -1.421875 18.96875 -0.25 \nQ 13.140625 0.921875 6.890625 3.21875 \nL 6.890625 13.375 \nQ 12.890625 10.015625 18.65625 8.296875 \nQ 24.421875 6.59375 29.984375 6.59375 \nQ 38.421875 6.59375 43.015625 9.90625 \nQ 47.609375 13.234375 47.609375 19.390625 \nQ 47.609375 24.75 44.3125 27.78125 \nQ 41.015625 30.8125 33.5 32.328125 \nL 27.484375 33.5 \nQ 16.453125 35.6875 11.515625 40.375 \nQ 6.59375 45.0625 6.59375 53.421875 \nQ 6.59375 63.09375 13.40625 68.65625 \nQ 20.21875 74.21875 32.171875 74.21875 \nQ 37.3125 74.21875 42.625 73.28125 \nQ 47.953125 72.359375 53.515625 70.515625 \nz\n\" id=\"DejaVuSans-83\"/>\n        <path d=\"M 28.609375 0 \nL 0.78125 72.90625 \nL 11.078125 72.90625 \nL 34.1875 11.53125 \nL 57.328125 72.90625 \nL 67.578125 72.90625 \nL 39.796875 0 \nz\n\" id=\"DejaVuSans-86\"/>\n       </defs>\n       <use xlink:href=\"#DejaVuSans-83\"/>\n       <use x=\"63.476562\" xlink:href=\"#DejaVuSans-86\"/>\n       <use x=\"131.884766\" xlink:href=\"#DejaVuSans-82\"/>\n      </g>\n     </g>\n    </g>\n   </g>\n   <g id=\"matplotlib.axis_2\">\n    <g id=\"ytick_1\">\n     <g id=\"line2d_6\">\n      <defs>\n       <path d=\"M 0 0 \nL -3.5 0 \n\" id=\"m865cdf5dc8\" style=\"stroke:#000000;stroke-width:0.8;\"/>\n      </defs>\n      <g>\n       <use style=\"stroke:#000000;stroke-width:0.8;\" x=\"38.482813\" xlink:href=\"#m865cdf5dc8\" y=\"238.891066\"/>\n      </g>\n     </g>\n     <g id=\"text_6\">\n      <!-- −2.5 -->\n      <g transform=\"translate(7.2 242.690285)scale(0.1 -0.1)\">\n       <defs>\n        <path d=\"M 10.59375 35.5 \nL 73.1875 35.5 \nL 73.1875 27.203125 \nL 10.59375 27.203125 \nz\n\" id=\"DejaVuSans-8722\"/>\n        <path d=\"M 19.1875 8.296875 \nL 53.609375 8.296875 \nL 53.609375 0 \nL 7.328125 0 \nL 7.328125 8.296875 \nQ 12.9375 14.109375 22.625 23.890625 \nQ 32.328125 33.6875 34.8125 36.53125 \nQ 39.546875 41.84375 41.421875 45.53125 \nQ 43.3125 49.21875 43.3125 52.78125 \nQ 43.3125 58.59375 39.234375 62.25 \nQ 35.15625 65.921875 28.609375 65.921875 \nQ 23.96875 65.921875 18.8125 64.3125 \nQ 13.671875 62.703125 7.8125 59.421875 \nL 7.8125 69.390625 \nQ 13.765625 71.78125 18.9375 73 \nQ 24.125 74.21875 28.421875 74.21875 \nQ 39.75 74.21875 46.484375 68.546875 \nQ 53.21875 62.890625 53.21875 53.421875 \nQ 53.21875 48.921875 51.53125 44.890625 \nQ 49.859375 40.875 45.40625 35.40625 \nQ 44.1875 33.984375 37.640625 27.21875 \nQ 31.109375 20.453125 19.1875 8.296875 \nz\n\" id=\"DejaVuSans-50\"/>\n        <path d=\"M 10.6875 12.40625 \nL 21 12.40625 \nL 21 0 \nL 10.6875 0 \nz\n\" id=\"DejaVuSans-46\"/>\n        <path d=\"M 10.796875 72.90625 \nL 49.515625 72.90625 \nL 49.515625 64.59375 \nL 19.828125 64.59375 \nL 19.828125 46.734375 \nQ 21.96875 47.46875 24.109375 47.828125 \nQ 26.265625 48.1875 28.421875 48.1875 \nQ 40.625 48.1875 47.75 41.5 \nQ 54.890625 34.8125 54.890625 23.390625 \nQ 54.890625 11.625 47.5625 5.09375 \nQ 40.234375 -1.421875 26.90625 -1.421875 \nQ 22.3125 -1.421875 17.546875 -0.640625 \nQ 12.796875 0.140625 7.71875 1.703125 \nL 7.71875 11.625 \nQ 12.109375 9.234375 16.796875 8.0625 \nQ 21.484375 6.890625 26.703125 6.890625 \nQ 35.15625 6.890625 40.078125 11.328125 \nQ 45.015625 15.765625 45.015625 23.390625 \nQ 45.015625 31 40.078125 35.4375 \nQ 35.15625 39.890625 26.703125 39.890625 \nQ 22.75 39.890625 18.8125 39.015625 \nQ 14.890625 38.140625 10.796875 36.28125 \nz\n\" id=\"DejaVuSans-53\"/>\n       </defs>\n       <use xlink:href=\"#DejaVuSans-8722\"/>\n       <use x=\"83.789062\" xlink:href=\"#DejaVuSans-50\"/>\n       <use x=\"147.412109\" xlink:href=\"#DejaVuSans-46\"/>\n       <use x=\"179.199219\" xlink:href=\"#DejaVuSans-53\"/>\n      </g>\n     </g>\n    </g>\n    <g id=\"ytick_2\">\n     <g id=\"line2d_7\">\n      <g>\n       <use style=\"stroke:#000000;stroke-width:0.8;\" x=\"38.482813\" xlink:href=\"#m865cdf5dc8\" y=\"197.553205\"/>\n      </g>\n     </g>\n     <g id=\"text_7\">\n      <!-- −2.0 -->\n      <g transform=\"translate(7.2 201.352424)scale(0.1 -0.1)\">\n       <defs>\n        <path d=\"M 31.78125 66.40625 \nQ 24.171875 66.40625 20.328125 58.90625 \nQ 16.5 51.421875 16.5 36.375 \nQ 16.5 21.390625 20.328125 13.890625 \nQ 24.171875 6.390625 31.78125 6.390625 \nQ 39.453125 6.390625 43.28125 13.890625 \nQ 47.125 21.390625 47.125 36.375 \nQ 47.125 51.421875 43.28125 58.90625 \nQ 39.453125 66.40625 31.78125 66.40625 \nz\nM 31.78125 74.21875 \nQ 44.046875 74.21875 50.515625 64.515625 \nQ 56.984375 54.828125 56.984375 36.375 \nQ 56.984375 17.96875 50.515625 8.265625 \nQ 44.046875 -1.421875 31.78125 -1.421875 \nQ 19.53125 -1.421875 13.0625 8.265625 \nQ 6.59375 17.96875 6.59375 36.375 \nQ 6.59375 54.828125 13.0625 64.515625 \nQ 19.53125 74.21875 31.78125 74.21875 \nz\n\" id=\"DejaVuSans-48\"/>\n       </defs>\n       <use xlink:href=\"#DejaVuSans-8722\"/>\n       <use x=\"83.789062\" xlink:href=\"#DejaVuSans-50\"/>\n       <use x=\"147.412109\" xlink:href=\"#DejaVuSans-46\"/>\n       <use x=\"179.199219\" xlink:href=\"#DejaVuSans-48\"/>\n      </g>\n     </g>\n    </g>\n    <g id=\"ytick_3\">\n     <g id=\"line2d_8\">\n      <g>\n       <use style=\"stroke:#000000;stroke-width:0.8;\" x=\"38.482813\" xlink:href=\"#m865cdf5dc8\" y=\"156.215344\"/>\n      </g>\n     </g>\n     <g id=\"text_8\">\n      <!-- −1.5 -->\n      <g transform=\"translate(7.2 160.014563)scale(0.1 -0.1)\">\n       <defs>\n        <path d=\"M 12.40625 8.296875 \nL 28.515625 8.296875 \nL 28.515625 63.921875 \nL 10.984375 60.40625 \nL 10.984375 69.390625 \nL 28.421875 72.90625 \nL 38.28125 72.90625 \nL 38.28125 8.296875 \nL 54.390625 8.296875 \nL 54.390625 0 \nL 12.40625 0 \nz\n\" id=\"DejaVuSans-49\"/>\n       </defs>\n       <use xlink:href=\"#DejaVuSans-8722\"/>\n       <use x=\"83.789062\" xlink:href=\"#DejaVuSans-49\"/>\n       <use x=\"147.412109\" xlink:href=\"#DejaVuSans-46\"/>\n       <use x=\"179.199219\" xlink:href=\"#DejaVuSans-53\"/>\n      </g>\n     </g>\n    </g>\n    <g id=\"ytick_4\">\n     <g id=\"line2d_9\">\n      <g>\n       <use style=\"stroke:#000000;stroke-width:0.8;\" x=\"38.482813\" xlink:href=\"#m865cdf5dc8\" y=\"114.877483\"/>\n      </g>\n     </g>\n     <g id=\"text_9\">\n      <!-- −1.0 -->\n      <g transform=\"translate(7.2 118.676702)scale(0.1 -0.1)\">\n       <use xlink:href=\"#DejaVuSans-8722\"/>\n       <use x=\"83.789062\" xlink:href=\"#DejaVuSans-49\"/>\n       <use x=\"147.412109\" xlink:href=\"#DejaVuSans-46\"/>\n       <use x=\"179.199219\" xlink:href=\"#DejaVuSans-48\"/>\n      </g>\n     </g>\n    </g>\n    <g id=\"ytick_5\">\n     <g id=\"line2d_10\">\n      <g>\n       <use style=\"stroke:#000000;stroke-width:0.8;\" x=\"38.482813\" xlink:href=\"#m865cdf5dc8\" y=\"73.539622\"/>\n      </g>\n     </g>\n     <g id=\"text_10\">\n      <!-- −0.5 -->\n      <g transform=\"translate(7.2 77.338841)scale(0.1 -0.1)\">\n       <use xlink:href=\"#DejaVuSans-8722\"/>\n       <use x=\"83.789062\" xlink:href=\"#DejaVuSans-48\"/>\n       <use x=\"147.412109\" xlink:href=\"#DejaVuSans-46\"/>\n       <use x=\"179.199219\" xlink:href=\"#DejaVuSans-53\"/>\n      </g>\n     </g>\n    </g>\n    <g id=\"ytick_6\">\n     <g id=\"line2d_11\">\n      <g>\n       <use style=\"stroke:#000000;stroke-width:0.8;\" x=\"38.482813\" xlink:href=\"#m865cdf5dc8\" y=\"32.201761\"/>\n      </g>\n     </g>\n     <g id=\"text_11\">\n      <!-- 0.0 -->\n      <g transform=\"translate(15.579688 36.00098)scale(0.1 -0.1)\">\n       <use xlink:href=\"#DejaVuSans-48\"/>\n       <use x=\"63.623047\" xlink:href=\"#DejaVuSans-46\"/>\n       <use x=\"95.410156\" xlink:href=\"#DejaVuSans-48\"/>\n      </g>\n     </g>\n    </g>\n    <g id=\"text_12\">\n     <!-- 1e9 -->\n     <g transform=\"translate(38.482813 19.318125)scale(0.1 -0.1)\">\n      <defs>\n       <path d=\"M 56.203125 29.59375 \nL 56.203125 25.203125 \nL 14.890625 25.203125 \nQ 15.484375 15.921875 20.484375 11.0625 \nQ 25.484375 6.203125 34.421875 6.203125 \nQ 39.59375 6.203125 44.453125 7.46875 \nQ 49.3125 8.734375 54.109375 11.28125 \nL 54.109375 2.78125 \nQ 49.265625 0.734375 44.1875 -0.34375 \nQ 39.109375 -1.421875 33.890625 -1.421875 \nQ 20.796875 -1.421875 13.15625 6.1875 \nQ 5.515625 13.8125 5.515625 26.8125 \nQ 5.515625 40.234375 12.765625 48.109375 \nQ 20.015625 56 32.328125 56 \nQ 43.359375 56 49.78125 48.890625 \nQ 56.203125 41.796875 56.203125 29.59375 \nz\nM 47.21875 32.234375 \nQ 47.125 39.59375 43.09375 43.984375 \nQ 39.0625 48.390625 32.421875 48.390625 \nQ 24.90625 48.390625 20.390625 44.140625 \nQ 15.875 39.890625 15.1875 32.171875 \nz\n\" id=\"DejaVuSans-101\"/>\n       <path d=\"M 10.984375 1.515625 \nL 10.984375 10.5 \nQ 14.703125 8.734375 18.5 7.8125 \nQ 22.3125 6.890625 25.984375 6.890625 \nQ 35.75 6.890625 40.890625 13.453125 \nQ 46.046875 20.015625 46.78125 33.40625 \nQ 43.953125 29.203125 39.59375 26.953125 \nQ 35.25 24.703125 29.984375 24.703125 \nQ 19.046875 24.703125 12.671875 31.3125 \nQ 6.296875 37.9375 6.296875 49.421875 \nQ 6.296875 60.640625 12.9375 67.421875 \nQ 19.578125 74.21875 30.609375 74.21875 \nQ 43.265625 74.21875 49.921875 64.515625 \nQ 56.59375 54.828125 56.59375 36.375 \nQ 56.59375 19.140625 48.40625 8.859375 \nQ 40.234375 -1.421875 26.421875 -1.421875 \nQ 22.703125 -1.421875 18.890625 -0.6875 \nQ 15.09375 0.046875 10.984375 1.515625 \nz\nM 30.609375 32.421875 \nQ 37.25 32.421875 41.125 36.953125 \nQ 45.015625 41.5 45.015625 49.421875 \nQ 45.015625 57.28125 41.125 61.84375 \nQ 37.25 66.40625 30.609375 66.40625 \nQ 23.96875 66.40625 20.09375 61.84375 \nQ 16.21875 57.28125 16.21875 49.421875 \nQ 16.21875 41.5 20.09375 36.953125 \nQ 23.96875 32.421875 30.609375 32.421875 \nz\n\" id=\"DejaVuSans-57\"/>\n      </defs>\n      <use xlink:href=\"#DejaVuSans-49\"/>\n      <use x=\"63.623047\" xlink:href=\"#DejaVuSans-101\"/>\n      <use x=\"125.146484\" xlink:href=\"#DejaVuSans-57\"/>\n     </g>\n    </g>\n   </g>\n   <g id=\"line2d_12\">\n    <path clip-path=\"url(#p0d7abb9939)\" d=\"M 55.222813 32.201761 \nL 88.702813 32.201761 \nL 88.702813 32.201761 \nL 55.222813 32.201761 \nL 55.222813 32.201761 \n\" style=\"fill:none;stroke:#000000;stroke-linecap:square;\"/>\n   </g>\n   <g id=\"line2d_13\">\n    <path clip-path=\"url(#p0d7abb9939)\" d=\"M 71.962813 32.201761 \nL 71.962813 32.201761 \n\" style=\"fill:none;stroke:#000000;stroke-linecap:square;\"/>\n   </g>\n   <g id=\"line2d_14\">\n    <path clip-path=\"url(#p0d7abb9939)\" d=\"M 71.962813 32.201761 \nL 71.962813 32.201761 \n\" style=\"fill:none;stroke:#000000;stroke-linecap:square;\"/>\n   </g>\n   <g id=\"line2d_15\">\n    <path clip-path=\"url(#p0d7abb9939)\" d=\"M 63.592813 32.201761 \nL 80.332813 32.201761 \n\" style=\"fill:none;stroke:#000000;stroke-linecap:square;\"/>\n   </g>\n   <g id=\"line2d_16\">\n    <path clip-path=\"url(#p0d7abb9939)\" d=\"M 63.592813 32.201761 \nL 80.332813 32.201761 \n\" style=\"fill:none;stroke:#000000;stroke-linecap:square;\"/>\n   </g>\n   <g id=\"line2d_17\"/>\n   <g id=\"line2d_18\">\n    <path clip-path=\"url(#p0d7abb9939)\" d=\"M 122.182813 51.835163 \nL 155.662813 51.835163 \nL 155.662813 35.968125 \nL 122.182813 35.968125 \nL 122.182813 51.835163 \n\" style=\"fill:none;stroke:#000000;stroke-linecap:square;\"/>\n   </g>\n   <g id=\"line2d_19\">\n    <path clip-path=\"url(#p0d7abb9939)\" d=\"M 138.922813 51.835163 \nL 138.922813 51.835163 \n\" style=\"fill:none;stroke:#000000;stroke-linecap:square;\"/>\n   </g>\n   <g id=\"line2d_20\">\n    <path clip-path=\"url(#p0d7abb9939)\" d=\"M 138.922813 35.968125 \nL 138.922813 33.847058 \n\" style=\"fill:none;stroke:#000000;stroke-linecap:square;\"/>\n   </g>\n   <g id=\"line2d_21\">\n    <path clip-path=\"url(#p0d7abb9939)\" d=\"M 130.552813 51.835163 \nL 147.292813 51.835163 \n\" style=\"fill:none;stroke:#000000;stroke-linecap:square;\"/>\n   </g>\n   <g id=\"line2d_22\">\n    <path clip-path=\"url(#p0d7abb9939)\" d=\"M 130.552813 33.847058 \nL 147.292813 33.847058 \n\" style=\"fill:none;stroke:#000000;stroke-linecap:square;\"/>\n   </g>\n   <g id=\"line2d_23\">\n    <defs>\n     <path d=\"M 0 3 \nC 0.795609 3 1.55874 2.683901 2.12132 2.12132 \nC 2.683901 1.55874 3 0.795609 3 0 \nC 3 -0.795609 2.683901 -1.55874 2.12132 -2.12132 \nC 1.55874 -2.683901 0.795609 -3 0 -3 \nC -0.795609 -3 -1.55874 -2.683901 -2.12132 -2.12132 \nC -2.683901 -1.55874 -3 -0.795609 -3 0 \nC -3 0.795609 -2.683901 1.55874 -2.12132 2.12132 \nC -1.55874 2.683901 -0.795609 3 0 3 \nz\n\" id=\"m7dc500b4d2\" style=\"stroke:#000000;\"/>\n    </defs>\n    <g clip-path=\"url(#p0d7abb9939)\">\n     <use style=\"fill-opacity:0;stroke:#000000;\" x=\"138.922813\" xlink:href=\"#m7dc500b4d2\" y=\"229.874489\"/>\n    </g>\n   </g>\n   <g id=\"line2d_24\">\n    <path clip-path=\"url(#p0d7abb9939)\" d=\"M 189.142813 32.201761 \nL 222.622813 32.201761 \nL 222.622813 32.201761 \nL 189.142813 32.201761 \nL 189.142813 32.201761 \n\" style=\"fill:none;stroke:#000000;stroke-linecap:square;\"/>\n   </g>\n   <g id=\"line2d_25\">\n    <path clip-path=\"url(#p0d7abb9939)\" d=\"M 205.882813 32.201761 \nL 205.882813 32.201761 \n\" style=\"fill:none;stroke:#000000;stroke-linecap:square;\"/>\n   </g>\n   <g id=\"line2d_26\">\n    <path clip-path=\"url(#p0d7abb9939)\" d=\"M 205.882813 32.201761 \nL 205.882813 32.201761 \n\" style=\"fill:none;stroke:#000000;stroke-linecap:square;\"/>\n   </g>\n   <g id=\"line2d_27\">\n    <path clip-path=\"url(#p0d7abb9939)\" d=\"M 197.512813 32.201761 \nL 214.252813 32.201761 \n\" style=\"fill:none;stroke:#000000;stroke-linecap:square;\"/>\n   </g>\n   <g id=\"line2d_28\">\n    <path clip-path=\"url(#p0d7abb9939)\" d=\"M 197.512813 32.201761 \nL 214.252813 32.201761 \n\" style=\"fill:none;stroke:#000000;stroke-linecap:square;\"/>\n   </g>\n   <g id=\"line2d_29\"/>\n   <g id=\"line2d_30\">\n    <path clip-path=\"url(#p0d7abb9939)\" d=\"M 256.102813 32.201761 \nL 289.582813 32.201761 \nL 289.582813 32.201761 \nL 256.102813 32.201761 \nL 256.102813 32.201761 \n\" style=\"fill:none;stroke:#000000;stroke-linecap:square;\"/>\n   </g>\n   <g id=\"line2d_31\">\n    <path clip-path=\"url(#p0d7abb9939)\" d=\"M 272.842813 32.201761 \nL 272.842813 32.201761 \n\" style=\"fill:none;stroke:#000000;stroke-linecap:square;\"/>\n   </g>\n   <g id=\"line2d_32\">\n    <path clip-path=\"url(#p0d7abb9939)\" d=\"M 272.842813 32.201761 \nL 272.842813 32.201761 \n\" style=\"fill:none;stroke:#000000;stroke-linecap:square;\"/>\n   </g>\n   <g id=\"line2d_33\">\n    <path clip-path=\"url(#p0d7abb9939)\" d=\"M 264.472813 32.201761 \nL 281.212813 32.201761 \n\" style=\"fill:none;stroke:#000000;stroke-linecap:square;\"/>\n   </g>\n   <g id=\"line2d_34\">\n    <path clip-path=\"url(#p0d7abb9939)\" d=\"M 264.472813 32.201761 \nL 281.212813 32.201761 \n\" style=\"fill:none;stroke:#000000;stroke-linecap:square;\"/>\n   </g>\n   <g id=\"line2d_35\"/>\n   <g id=\"line2d_36\">\n    <path clip-path=\"url(#p0d7abb9939)\" d=\"M 323.062813 32.201761 \nL 356.542813 32.201761 \nL 356.542813 32.201761 \nL 323.062813 32.201761 \nL 323.062813 32.201761 \n\" style=\"fill:none;stroke:#000000;stroke-linecap:square;\"/>\n   </g>\n   <g id=\"line2d_37\">\n    <path clip-path=\"url(#p0d7abb9939)\" d=\"M 339.802813 32.201761 \nL 339.802813 32.201761 \n\" style=\"fill:none;stroke:#000000;stroke-linecap:square;\"/>\n   </g>\n   <g id=\"line2d_38\">\n    <path clip-path=\"url(#p0d7abb9939)\" d=\"M 339.802813 32.201761 \nL 339.802813 32.201761 \n\" style=\"fill:none;stroke:#000000;stroke-linecap:square;\"/>\n   </g>\n   <g id=\"line2d_39\">\n    <path clip-path=\"url(#p0d7abb9939)\" d=\"M 331.432813 32.201761 \nL 348.172813 32.201761 \n\" style=\"fill:none;stroke:#000000;stroke-linecap:square;\"/>\n   </g>\n   <g id=\"line2d_40\">\n    <path clip-path=\"url(#p0d7abb9939)\" d=\"M 331.432813 32.201761 \nL 348.172813 32.201761 \n\" style=\"fill:none;stroke:#000000;stroke-linecap:square;\"/>\n   </g>\n   <g id=\"line2d_41\"/>\n   <g id=\"line2d_42\">\n    <path clip-path=\"url(#p0d7abb9939)\" d=\"M 55.222813 32.201761 \nL 88.702813 32.201761 \n\" style=\"fill:none;stroke:#ff7f0e;stroke-linecap:square;\"/>\n   </g>\n   <g id=\"line2d_43\">\n    <path clip-path=\"url(#p0d7abb9939)\" d=\"M 122.182813 49.670722 \nL 155.662813 49.670722 \n\" style=\"fill:none;stroke:#ff7f0e;stroke-linecap:square;\"/>\n   </g>\n   <g id=\"line2d_44\">\n    <path clip-path=\"url(#p0d7abb9939)\" d=\"M 189.142813 32.201761 \nL 222.622813 32.201761 \n\" style=\"fill:none;stroke:#ff7f0e;stroke-linecap:square;\"/>\n   </g>\n   <g id=\"line2d_45\">\n    <path clip-path=\"url(#p0d7abb9939)\" d=\"M 256.102813 32.201761 \nL 289.582813 32.201761 \n\" style=\"fill:none;stroke:#ff7f0e;stroke-linecap:square;\"/>\n   </g>\n   <g id=\"line2d_46\">\n    <path clip-path=\"url(#p0d7abb9939)\" d=\"M 323.062813 32.201761 \nL 356.542813 32.201761 \n\" style=\"fill:none;stroke:#ff7f0e;stroke-linecap:square;\"/>\n   </g>\n   <g id=\"patch_3\">\n    <path d=\"M 38.482813 239.758125 \nL 38.482813 22.318125 \n\" style=\"fill:none;stroke:#000000;stroke-linecap:square;stroke-linejoin:miter;stroke-width:0.8;\"/>\n   </g>\n   <g id=\"patch_4\">\n    <path d=\"M 373.282813 239.758125 \nL 373.282813 22.318125 \n\" style=\"fill:none;stroke:#000000;stroke-linecap:square;stroke-linejoin:miter;stroke-width:0.8;\"/>\n   </g>\n   <g id=\"patch_5\">\n    <path d=\"M 38.482813 239.758125 \nL 373.282813 239.758125 \n\" style=\"fill:none;stroke:#000000;stroke-linecap:square;stroke-linejoin:miter;stroke-width:0.8;\"/>\n   </g>\n   <g id=\"patch_6\">\n    <path d=\"M 38.482813 22.318125 \nL 373.282813 22.318125 \n\" style=\"fill:none;stroke:#000000;stroke-linecap:square;stroke-linejoin:miter;stroke-width:0.8;\"/>\n   </g>\n   <g id=\"text_13\">\n    <!-- Algorithm Comparison -->\n    <g transform=\"translate(138.667812 16.318125)scale(0.12 -0.12)\">\n     <defs>\n      <path d=\"M 34.1875 63.1875 \nL 20.796875 26.90625 \nL 47.609375 26.90625 \nz\nM 28.609375 72.90625 \nL 39.796875 72.90625 \nL 67.578125 0 \nL 57.328125 0 \nL 50.6875 18.703125 \nL 17.828125 18.703125 \nL 11.1875 0 \nL 0.78125 0 \nz\n\" id=\"DejaVuSans-65\"/>\n      <path d=\"M 9.421875 75.984375 \nL 18.40625 75.984375 \nL 18.40625 0 \nL 9.421875 0 \nz\n\" id=\"DejaVuSans-108\"/>\n      <path d=\"M 45.40625 27.984375 \nQ 45.40625 37.75 41.375 43.109375 \nQ 37.359375 48.484375 30.078125 48.484375 \nQ 22.859375 48.484375 18.828125 43.109375 \nQ 14.796875 37.75 14.796875 27.984375 \nQ 14.796875 18.265625 18.828125 12.890625 \nQ 22.859375 7.515625 30.078125 7.515625 \nQ 37.359375 7.515625 41.375 12.890625 \nQ 45.40625 18.265625 45.40625 27.984375 \nz\nM 54.390625 6.78125 \nQ 54.390625 -7.171875 48.1875 -13.984375 \nQ 42 -20.796875 29.203125 -20.796875 \nQ 24.46875 -20.796875 20.265625 -20.09375 \nQ 16.0625 -19.390625 12.109375 -17.921875 \nL 12.109375 -9.1875 \nQ 16.0625 -11.328125 19.921875 -12.34375 \nQ 23.78125 -13.375 27.78125 -13.375 \nQ 36.625 -13.375 41.015625 -8.765625 \nQ 45.40625 -4.15625 45.40625 5.171875 \nL 45.40625 9.625 \nQ 42.625 4.78125 38.28125 2.390625 \nQ 33.9375 0 27.875 0 \nQ 17.828125 0 11.671875 7.65625 \nQ 5.515625 15.328125 5.515625 27.984375 \nQ 5.515625 40.671875 11.671875 48.328125 \nQ 17.828125 56 27.875 56 \nQ 33.9375 56 38.28125 53.609375 \nQ 42.625 51.21875 45.40625 46.390625 \nL 45.40625 54.6875 \nL 54.390625 54.6875 \nz\n\" id=\"DejaVuSans-103\"/>\n      <path d=\"M 30.609375 48.390625 \nQ 23.390625 48.390625 19.1875 42.75 \nQ 14.984375 37.109375 14.984375 27.296875 \nQ 14.984375 17.484375 19.15625 11.84375 \nQ 23.34375 6.203125 30.609375 6.203125 \nQ 37.796875 6.203125 41.984375 11.859375 \nQ 46.1875 17.53125 46.1875 27.296875 \nQ 46.1875 37.015625 41.984375 42.703125 \nQ 37.796875 48.390625 30.609375 48.390625 \nz\nM 30.609375 56 \nQ 42.328125 56 49.015625 48.375 \nQ 55.71875 40.765625 55.71875 27.296875 \nQ 55.71875 13.875 49.015625 6.21875 \nQ 42.328125 -1.421875 30.609375 -1.421875 \nQ 18.84375 -1.421875 12.171875 6.21875 \nQ 5.515625 13.875 5.515625 27.296875 \nQ 5.515625 40.765625 12.171875 48.375 \nQ 18.84375 56 30.609375 56 \nz\n\" id=\"DejaVuSans-111\"/>\n      <path d=\"M 41.109375 46.296875 \nQ 39.59375 47.171875 37.8125 47.578125 \nQ 36.03125 48 33.890625 48 \nQ 26.265625 48 22.1875 43.046875 \nQ 18.109375 38.09375 18.109375 28.8125 \nL 18.109375 0 \nL 9.078125 0 \nL 9.078125 54.6875 \nL 18.109375 54.6875 \nL 18.109375 46.1875 \nQ 20.953125 51.171875 25.484375 53.578125 \nQ 30.03125 56 36.53125 56 \nQ 37.453125 56 38.578125 55.875 \nQ 39.703125 55.765625 41.0625 55.515625 \nz\n\" id=\"DejaVuSans-114\"/>\n      <path d=\"M 9.421875 54.6875 \nL 18.40625 54.6875 \nL 18.40625 0 \nL 9.421875 0 \nz\nM 9.421875 75.984375 \nL 18.40625 75.984375 \nL 18.40625 64.59375 \nL 9.421875 64.59375 \nz\n\" id=\"DejaVuSans-105\"/>\n      <path d=\"M 18.3125 70.21875 \nL 18.3125 54.6875 \nL 36.8125 54.6875 \nL 36.8125 47.703125 \nL 18.3125 47.703125 \nL 18.3125 18.015625 \nQ 18.3125 11.328125 20.140625 9.421875 \nQ 21.96875 7.515625 27.59375 7.515625 \nL 36.8125 7.515625 \nL 36.8125 0 \nL 27.59375 0 \nQ 17.1875 0 13.234375 3.875 \nQ 9.28125 7.765625 9.28125 18.015625 \nL 9.28125 47.703125 \nL 2.6875 47.703125 \nL 2.6875 54.6875 \nL 9.28125 54.6875 \nL 9.28125 70.21875 \nz\n\" id=\"DejaVuSans-116\"/>\n      <path d=\"M 54.890625 33.015625 \nL 54.890625 0 \nL 45.90625 0 \nL 45.90625 32.71875 \nQ 45.90625 40.484375 42.875 44.328125 \nQ 39.84375 48.1875 33.796875 48.1875 \nQ 26.515625 48.1875 22.3125 43.546875 \nQ 18.109375 38.921875 18.109375 30.90625 \nL 18.109375 0 \nL 9.078125 0 \nL 9.078125 75.984375 \nL 18.109375 75.984375 \nL 18.109375 46.1875 \nQ 21.34375 51.125 25.703125 53.5625 \nQ 30.078125 56 35.796875 56 \nQ 45.21875 56 50.046875 50.171875 \nQ 54.890625 44.34375 54.890625 33.015625 \nz\n\" id=\"DejaVuSans-104\"/>\n      <path d=\"M 52 44.1875 \nQ 55.375 50.25 60.0625 53.125 \nQ 64.75 56 71.09375 56 \nQ 79.640625 56 84.28125 50.015625 \nQ 88.921875 44.046875 88.921875 33.015625 \nL 88.921875 0 \nL 79.890625 0 \nL 79.890625 32.71875 \nQ 79.890625 40.578125 77.09375 44.375 \nQ 74.3125 48.1875 68.609375 48.1875 \nQ 61.625 48.1875 57.5625 43.546875 \nQ 53.515625 38.921875 53.515625 30.90625 \nL 53.515625 0 \nL 44.484375 0 \nL 44.484375 32.71875 \nQ 44.484375 40.625 41.703125 44.40625 \nQ 38.921875 48.1875 33.109375 48.1875 \nQ 26.21875 48.1875 22.15625 43.53125 \nQ 18.109375 38.875 18.109375 30.90625 \nL 18.109375 0 \nL 9.078125 0 \nL 9.078125 54.6875 \nL 18.109375 54.6875 \nL 18.109375 46.1875 \nQ 21.1875 51.21875 25.484375 53.609375 \nQ 29.78125 56 35.6875 56 \nQ 41.65625 56 45.828125 52.96875 \nQ 50 49.953125 52 44.1875 \nz\n\" id=\"DejaVuSans-109\"/>\n      <path id=\"DejaVuSans-32\"/>\n      <path d=\"M 64.40625 67.28125 \nL 64.40625 56.890625 \nQ 59.421875 61.53125 53.78125 63.8125 \nQ 48.140625 66.109375 41.796875 66.109375 \nQ 29.296875 66.109375 22.65625 58.46875 \nQ 16.015625 50.828125 16.015625 36.375 \nQ 16.015625 21.96875 22.65625 14.328125 \nQ 29.296875 6.6875 41.796875 6.6875 \nQ 48.140625 6.6875 53.78125 8.984375 \nQ 59.421875 11.28125 64.40625 15.921875 \nL 64.40625 5.609375 \nQ 59.234375 2.09375 53.4375 0.328125 \nQ 47.65625 -1.421875 41.21875 -1.421875 \nQ 24.65625 -1.421875 15.125 8.703125 \nQ 5.609375 18.84375 5.609375 36.375 \nQ 5.609375 53.953125 15.125 64.078125 \nQ 24.65625 74.21875 41.21875 74.21875 \nQ 47.75 74.21875 53.53125 72.484375 \nQ 59.328125 70.75 64.40625 67.28125 \nz\n\" id=\"DejaVuSans-67\"/>\n      <path d=\"M 18.109375 8.203125 \nL 18.109375 -20.796875 \nL 9.078125 -20.796875 \nL 9.078125 54.6875 \nL 18.109375 54.6875 \nL 18.109375 46.390625 \nQ 20.953125 51.265625 25.265625 53.625 \nQ 29.59375 56 35.59375 56 \nQ 45.5625 56 51.78125 48.09375 \nQ 58.015625 40.1875 58.015625 27.296875 \nQ 58.015625 14.40625 51.78125 6.484375 \nQ 45.5625 -1.421875 35.59375 -1.421875 \nQ 29.59375 -1.421875 25.265625 0.953125 \nQ 20.953125 3.328125 18.109375 8.203125 \nz\nM 48.6875 27.296875 \nQ 48.6875 37.203125 44.609375 42.84375 \nQ 40.53125 48.484375 33.40625 48.484375 \nQ 26.265625 48.484375 22.1875 42.84375 \nQ 18.109375 37.203125 18.109375 27.296875 \nQ 18.109375 17.390625 22.1875 11.75 \nQ 26.265625 6.109375 33.40625 6.109375 \nQ 40.53125 6.109375 44.609375 11.75 \nQ 48.6875 17.390625 48.6875 27.296875 \nz\n\" id=\"DejaVuSans-112\"/>\n      <path d=\"M 34.28125 27.484375 \nQ 23.390625 27.484375 19.1875 25 \nQ 14.984375 22.515625 14.984375 16.5 \nQ 14.984375 11.71875 18.140625 8.90625 \nQ 21.296875 6.109375 26.703125 6.109375 \nQ 34.1875 6.109375 38.703125 11.40625 \nQ 43.21875 16.703125 43.21875 25.484375 \nL 43.21875 27.484375 \nz\nM 52.203125 31.203125 \nL 52.203125 0 \nL 43.21875 0 \nL 43.21875 8.296875 \nQ 40.140625 3.328125 35.546875 0.953125 \nQ 30.953125 -1.421875 24.3125 -1.421875 \nQ 15.921875 -1.421875 10.953125 3.296875 \nQ 6 8.015625 6 15.921875 \nQ 6 25.140625 12.171875 29.828125 \nQ 18.359375 34.515625 30.609375 34.515625 \nL 43.21875 34.515625 \nL 43.21875 35.40625 \nQ 43.21875 41.609375 39.140625 45 \nQ 35.0625 48.390625 27.6875 48.390625 \nQ 23 48.390625 18.546875 47.265625 \nQ 14.109375 46.140625 10.015625 43.890625 \nL 10.015625 52.203125 \nQ 14.9375 54.109375 19.578125 55.046875 \nQ 24.21875 56 28.609375 56 \nQ 40.484375 56 46.34375 49.84375 \nQ 52.203125 43.703125 52.203125 31.203125 \nz\n\" id=\"DejaVuSans-97\"/>\n      <path d=\"M 44.28125 53.078125 \nL 44.28125 44.578125 \nQ 40.484375 46.53125 36.375 47.5 \nQ 32.28125 48.484375 27.875 48.484375 \nQ 21.1875 48.484375 17.84375 46.4375 \nQ 14.5 44.390625 14.5 40.28125 \nQ 14.5 37.15625 16.890625 35.375 \nQ 19.28125 33.59375 26.515625 31.984375 \nL 29.59375 31.296875 \nQ 39.15625 29.25 43.1875 25.515625 \nQ 47.21875 21.78125 47.21875 15.09375 \nQ 47.21875 7.46875 41.1875 3.015625 \nQ 35.15625 -1.421875 24.609375 -1.421875 \nQ 20.21875 -1.421875 15.453125 -0.5625 \nQ 10.6875 0.296875 5.421875 2 \nL 5.421875 11.28125 \nQ 10.40625 8.6875 15.234375 7.390625 \nQ 20.0625 6.109375 24.8125 6.109375 \nQ 31.15625 6.109375 34.5625 8.28125 \nQ 37.984375 10.453125 37.984375 14.40625 \nQ 37.984375 18.0625 35.515625 20.015625 \nQ 33.0625 21.96875 24.703125 23.78125 \nL 21.578125 24.515625 \nQ 13.234375 26.265625 9.515625 29.90625 \nQ 5.8125 33.546875 5.8125 39.890625 \nQ 5.8125 47.609375 11.28125 51.796875 \nQ 16.75 56 26.8125 56 \nQ 31.78125 56 36.171875 55.265625 \nQ 40.578125 54.546875 44.28125 53.078125 \nz\n\" id=\"DejaVuSans-115\"/>\n      <path d=\"M 54.890625 33.015625 \nL 54.890625 0 \nL 45.90625 0 \nL 45.90625 32.71875 \nQ 45.90625 40.484375 42.875 44.328125 \nQ 39.84375 48.1875 33.796875 48.1875 \nQ 26.515625 48.1875 22.3125 43.546875 \nQ 18.109375 38.921875 18.109375 30.90625 \nL 18.109375 0 \nL 9.078125 0 \nL 9.078125 54.6875 \nL 18.109375 54.6875 \nL 18.109375 46.1875 \nQ 21.34375 51.125 25.703125 53.5625 \nQ 30.078125 56 35.796875 56 \nQ 45.21875 56 50.046875 50.171875 \nQ 54.890625 44.34375 54.890625 33.015625 \nz\n\" id=\"DejaVuSans-110\"/>\n     </defs>\n     <use xlink:href=\"#DejaVuSans-65\"/>\n     <use x=\"68.408203\" xlink:href=\"#DejaVuSans-108\"/>\n     <use x=\"96.191406\" xlink:href=\"#DejaVuSans-103\"/>\n     <use x=\"159.667969\" xlink:href=\"#DejaVuSans-111\"/>\n     <use x=\"220.849609\" xlink:href=\"#DejaVuSans-114\"/>\n     <use x=\"261.962891\" xlink:href=\"#DejaVuSans-105\"/>\n     <use x=\"289.746094\" xlink:href=\"#DejaVuSans-116\"/>\n     <use x=\"328.955078\" xlink:href=\"#DejaVuSans-104\"/>\n     <use x=\"392.333984\" xlink:href=\"#DejaVuSans-109\"/>\n     <use x=\"489.746094\" xlink:href=\"#DejaVuSans-32\"/>\n     <use x=\"521.533203\" xlink:href=\"#DejaVuSans-67\"/>\n     <use x=\"591.357422\" xlink:href=\"#DejaVuSans-111\"/>\n     <use x=\"652.539062\" xlink:href=\"#DejaVuSans-109\"/>\n     <use x=\"749.951172\" xlink:href=\"#DejaVuSans-112\"/>\n     <use x=\"813.427734\" xlink:href=\"#DejaVuSans-97\"/>\n     <use x=\"874.707031\" xlink:href=\"#DejaVuSans-114\"/>\n     <use x=\"915.820312\" xlink:href=\"#DejaVuSans-105\"/>\n     <use x=\"943.603516\" xlink:href=\"#DejaVuSans-115\"/>\n     <use x=\"995.703125\" xlink:href=\"#DejaVuSans-111\"/>\n     <use x=\"1056.884766\" xlink:href=\"#DejaVuSans-110\"/>\n    </g>\n   </g>\n  </g>\n </g>\n <defs>\n  <clipPath id=\"p0d7abb9939\">\n   <rect height=\"217.44\" width=\"334.8\" x=\"38.482813\" y=\"22.318125\"/>\n  </clipPath>\n </defs>\n</svg>\n",
      "image/png": "[encoded data removed]"
     },
     "metadata": {
      "needs_background": "light"
     }
    }
   ],
   "source": [
    "# //TODO: use cross-validation!!!\n",
    "\n",
    "import matplotlib.pyplot as plt\n",
    "from sklearn.model_selection import TimeSeriesSplit\n",
    "from sklearn.neural_network import MLPRegressor\n",
    "from sklearn.neighbors import KNeighborsRegressor\n",
    "from sklearn.svm import SVR\n",
    "from sklearn.ensemble import RandomForestRegressor\n",
    "from sklearn.model_selection import cross_val_score\n",
    "\n",
    "# Spot Check Algorithms\n",
    "models = []\n",
    "models.append(('LR', LinearRegression()))\n",
    "models.append(('NN', MLPRegressor(solver = 'lbfgs')))  #neural network\n",
    "models.append(('KNN', KNeighborsRegressor())) \n",
    "models.append(('RF', RandomForestRegressor(n_estimators = 10))) # Ensemble method - collection of many decision trees\n",
    "models.append(('SVR', SVR(gamma='auto'))) # kernel = linear\n",
    "# Evaluate each model in turn\n",
    "results = []\n",
    "names = []\n",
    "for name, model in models:\n",
    "    # TimeSeries Cross validation\n",
    " tscv = TimeSeriesSplit(n_splits=5)\n",
    "    \n",
    " cv_results = cross_val_score(model, train_X, train_y, cv=tscv, scoring='r2')\n",
    " results.append(cv_results)\n",
    " names.append(name)\n",
    " print('%s: %f (%f)' % (name, cv_results.mean(), cv_results.std()))\n",
    "    \n",
    "# Compare Algorithms\n",
    "plt.boxplot(results, labels=names)\n",
    "plt.title('Algorithm Comparison')\n",
    "plt.show()"
   ]
  },
  {
   "cell_type": "code",
   "execution_count": 55,
   "metadata": {},
   "outputs": [],
   "source": [
    "# //TODO: use cross-validation!!!"
   ]
  }
 ],
 "metadata": {
  "kernelspec": {
   "name": "python3",
   "display_name": "Python 3.9.1 64-bit"
  },
  "language_info": {
   "codemirror_mode": {
    "name": "ipython",
    "version": 3
   },
   "file_extension": ".py",
   "mimetype": "text/x-python",
   "name": "python",
   "nbconvert_exporter": "python",
   "pygments_lexer": "ipython3",
   "version": "3.9.1"
  }
 },
 "nbformat": 4,
 "nbformat_minor": 5
}