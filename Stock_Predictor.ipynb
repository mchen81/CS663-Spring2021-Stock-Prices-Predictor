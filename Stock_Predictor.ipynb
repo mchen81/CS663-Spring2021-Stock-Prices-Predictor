{
 "cells": [
  {
   "cell_type": "code",
   "execution_count": 1,
   "id": "734b2547",
   "metadata": {},
   "outputs": [],
   "source": [
    "import stock_helper\n",
    "import pandas as pd\n",
    "from datetime import datetime\n",
    "import numpy as np\n",
    "\n",
    "dataset = stock_helper.fetch_stock_data('GOOG', '30y')"
   ]
  },
  {
   "cell_type": "code",
   "execution_count": 2,
   "id": "c9d8c422",
   "metadata": {},
   "outputs": [],
   "source": [
    "df = stock_helper.generate_indicators(dataset, \n",
    "                                      timeperiod=5, \n",
    "                                      generate_target=True, \n",
    "                                      reset_index=True)\n",
    "\n",
    "# Convert date to the n-th day from 1970-01-01\n",
    "df['date'] = df['date'].apply(lambda date64: (date64 - np.datetime64('1970-01-01T00:00:00')) / np.timedelta64(1, 'D'))"
   ]
  },
  {
   "cell_type": "code",
   "execution_count": 3,
   "id": "b6fd7e7f",
   "metadata": {},
   "outputs": [],
   "source": [
    "df = df.dropna()\n",
    "\n",
    "train_size = int(len(df) * 0.8)\n",
    "train = df.iloc[:train_size, :]\n",
    "test = df.iloc[train_size:, :]\n",
    "\n",
    "target_name = df.columns[-1]\n",
    "train_X = train.drop(target_name, axis = 1)\n",
    "train_y = train[target_name]\n",
    "\n",
    "test_X = test.drop(target_name, axis = 1)\n",
    "test_y = test[target_name]"
   ]
  },
  {
   "cell_type": "code",
   "execution_count": 4,
   "id": "d590979c",
   "metadata": {},
   "outputs": [
    {
     "data": {
      "text/plain": [
       "0.5956937799043063"
      ]
     },
     "execution_count": 4,
     "metadata": {},
     "output_type": "execute_result"
    }
   ],
   "source": [
    "from sklearn.tree import DecisionTreeClassifier\n",
    "\n",
    "clf = DecisionTreeClassifier(max_depth=2)\n",
    "clf.fit(train_X, train_y)\n",
    "prediction = clf.predict(test_X)\n",
    "\n",
    "from sklearn.metrics import accuracy_score\n",
    "accuracy_score(test_y, prediction)"
   ]
  },
  {
   "cell_type": "code",
   "execution_count": 5,
   "id": "c0a1cbdd",
   "metadata": {},
   "outputs": [
    {
     "data": {
      "text/plain": [
       "0.5956937799043063"
      ]
     },
     "execution_count": 5,
     "metadata": {},
     "output_type": "execute_result"
    }
   ],
   "source": [
    "from sklearn.ensemble import RandomForestClassifier\n",
    "\n",
    "clf = RandomForestClassifier(max_depth=5)\n",
    "clf.fit(train_X, train_y)\n",
    "prediction = clf.predict(test_X)\n",
    "\n",
    "accuracy_score(test_y, prediction)"
   ]
  },
  {
   "cell_type": "code",
   "execution_count": null,
   "id": "0077fc8d",
   "metadata": {},
   "outputs": [],
   "source": []
  }
 ],
 "metadata": {
  "kernelspec": {
   "display_name": "Python 3",
   "language": "python",
   "name": "python3"
  },
  "language_info": {
   "codemirror_mode": {
    "name": "ipython",
    "version": 3
   },
   "file_extension": ".py",
   "mimetype": "text/x-python",
   "name": "python",
   "nbconvert_exporter": "python",
   "pygments_lexer": "ipython3",
   "version": "3.8.5"
  }
 },
 "nbformat": 4,
 "nbformat_minor": 5
}
