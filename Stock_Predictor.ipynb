{
 "cells": [
  {
   "cell_type": "code",
   "execution_count": 2,
   "id": "734b2547",
   "metadata": {},
   "outputs": [],
   "source": [
    "import stock_helper\n",
    "import pandas as pd\n",
    "from datetime import datetime\n",
    "import numpy as np\n",
    "\n",
    "dataset = stock_helper.fetch_stock_data('GOOG', '30y')"
   ]
  },
  {
   "cell_type": "code",
   "execution_count": 3,
   "id": "c9d8c422",
   "metadata": {},
   "outputs": [],
   "source": [
    "df = stock_helper.generate_indicators(dataset, \n",
    "                                      timeperiod=5, \n",
    "                                      generate_target=True, \n",
    "                                      reset_index=True)\n",
    "\n",
    "# Convert date to the n-th day from 1970-01-01\n",
    "df['date'] = df['date'].apply(lambda date64: (date64 - np.datetime64('1970-01-01T00:00:00')) / np.timedelta64(1, 'D'))"
   ]
  },
  {
   "cell_type": "code",
   "execution_count": 4,
   "id": "b6fd7e7f",
   "metadata": {},
   "outputs": [],
   "source": [
    "df = df.dropna()\n",
    "\n",
    "train_size = int(len(df) * 0.8)\n",
    "train = df.iloc[:train_size, :]\n",
    "test = df.iloc[train_size:, :]\n",
    "\n",
    "target_name = df.columns[-1]\n",
    "train_X = train.drop(target_name, axis = 1)\n",
    "train_y = train[target_name]\n",
    "\n",
    "test_X = test.drop(target_name, axis = 1)\n",
    "test_y = test[target_name]"
   ]
  },
  {
   "cell_type": "code",
   "execution_count": 5,
   "id": "d590979c",
   "metadata": {},
   "outputs": [
    {
     "output_type": "execute_result",
     "data": {
      "text/plain": [
       "0.5956937799043063"
      ]
     },
     "metadata": {},
     "execution_count": 5
    }
   ],
   "source": [
    "from sklearn.tree import DecisionTreeClassifier\n",
    "\n",
    "clf = DecisionTreeClassifier(max_depth=2)\n",
    "clf.fit(train_X, train_y)\n",
    "prediction = clf.predict(test_X)\n",
    "\n",
    "from sklearn.metrics import accuracy_score\n",
    "accuracy_score(test_y, prediction)"
   ]
  },
  {
   "cell_type": "code",
   "execution_count": 6,
   "id": "c0a1cbdd",
   "metadata": {},
   "outputs": [
    {
     "output_type": "execute_result",
     "data": {
      "text/plain": [
       "0.5956937799043063"
      ]
     },
     "metadata": {},
     "execution_count": 6
    }
   ],
   "source": [
    "from sklearn.ensemble import RandomForestClassifier\n",
    "\n",
    "clf = RandomForestClassifier(max_depth=5)\n",
    "clf.fit(train_X, train_y)\n",
    "prediction = clf.predict(test_X)\n",
    "\n",
    "accuracy_score(test_y, prediction)"
   ]
  },
  {
   "cell_type": "code",
   "execution_count": 16,
   "id": "0077fc8d",
   "metadata": {},
   "outputs": [
    {
     "output_type": "execute_result",
     "data": {
      "text/plain": [
       "0.562200956937799"
      ]
     },
     "metadata": {},
     "execution_count": 16
    }
   ],
   "source": [
    "from sklearn.tree import DecisionTreeClassifier\n",
    "\n",
    "clf = DecisionTreeClassifier(max_depth=4)\n",
    "clf.fit(train_X, train_y)\n",
    "prediction = clf.predict(test_X)\n",
    "\n",
    "from sklearn.metrics import accuracy_score\n",
    "accuracy_score(test_y, prediction)"
   ]
  },
  {
   "cell_type": "code",
   "execution_count": 31,
   "metadata": {},
   "outputs": [
    {
     "output_type": "execute_result",
     "data": {
      "text/plain": [
       "0.5956937799043063"
      ]
     },
     "metadata": {},
     "execution_count": 31
    }
   ],
   "source": [
    "from sklearn.ensemble import RandomForestClassifier\n",
    "\n",
    "clf = RandomForestClassifier(max_depth=8)\n",
    "clf.fit(train_X, train_y)\n",
    "prediction = clf.predict(test_X)\n",
    "\n",
    "accuracy_score(test_y, prediction)"
   ]
  },
  {
   "cell_type": "code",
   "execution_count": 25,
   "metadata": {},
   "outputs": [],
   "source": [
    "from sklearn.feature_extraction.text import CountVectorizer\n",
    "\n",
    "count_vect = CountVectorizer()\n",
    "x_train_counts = count_vect.fit_transform(train_X).toarray()\n",
    "x_test_counts = count_vect.transform(test_X).toarray()"
   ]
  },
  {
   "cell_type": "code",
   "execution_count": 26,
   "metadata": {},
   "outputs": [
    {
     "output_type": "execute_result",
     "data": {
      "text/plain": [
       "(18, 18)"
      ]
     },
     "metadata": {},
     "execution_count": 26
    }
   ],
   "source": [
    "x_train_counts.shape"
   ]
  },
  {
   "cell_type": "code",
   "execution_count": 30,
   "metadata": {},
   "outputs": [
    {
     "output_type": "execute_result",
     "data": {
      "text/plain": [
       "0.5956937799043063"
      ]
     },
     "metadata": {},
     "execution_count": 30
    }
   ],
   "source": [
    "from sklearn.linear_model import LogisticRegression\n",
    "from sklearn.metrics import accuracy_score\n",
    "\n",
    "clf = LogisticRegression()\n",
    "clf.fit(train_X, train_y)\n",
    "\n",
    "hyp = clf.predict(test_X)\n",
    "accuracy_score(test_y, hyp)"
   ]
  },
  {
   "cell_type": "code",
   "execution_count": 32,
   "metadata": {},
   "outputs": [
    {
     "output_type": "execute_result",
     "data": {
      "text/plain": [
       "         date         high          low         open        close    volume  \\\n",
       "33    12697.0    68.966499    67.746071    68.518173    68.284058  13445007   \n",
       "34    12698.0    69.678825    68.020042    68.204353    69.165749  14182160   \n",
       "35    12699.0    69.579201    68.254166    69.100990    68.607841  11122133   \n",
       "36    12702.0    69.170731    66.675087    68.244202    67.377457  10521891   \n",
       "37    12703.0    68.548065    66.450928    66.968987    68.443459  11720969   \n",
       "...       ...          ...          ...          ...          ...       ...   \n",
       "3368  17535.0  1093.569946  1084.001953  1088.000000  1086.400024   1004600   \n",
       "3369  17536.0  1104.250000  1092.000000  1094.000000  1102.229980   1279100   \n",
       "3370  17539.0  1111.270020  1101.619995  1102.229980  1106.939941   1047600   \n",
       "3371  17540.0  1110.569946  1101.230957  1109.400024  1106.260010    902500   \n",
       "3372  17541.0  1104.599976  1096.109985  1097.099976  1102.609985   1042800   \n",
       "\n",
       "            RSI        MOM      slowk      slowd       macd  macdsignal  \\\n",
       "33    80.315879   2.988800  90.925916  87.770443   4.352631    3.500605   \n",
       "34    83.169395   4.607727  91.420462  91.189372   4.459865    3.692457   \n",
       "35    74.614000   2.565384  82.473639  88.273339   4.448550    3.843675   \n",
       "36    58.129902   0.099632  67.335623  80.409908   4.290839    3.933108   \n",
       "37    66.213656  -0.483185  57.705333  69.171532   4.203415    3.987170   \n",
       "...         ...        ...        ...        ...        ...         ...   \n",
       "3368  81.606064  37.030029  89.126916  63.467050  12.009556   10.579442   \n",
       "3369  87.616769  54.089966  90.909168  81.174514  14.284510   11.320455   \n",
       "3370  88.958668  60.539917  91.782399  90.606161  16.279818   12.312328   \n",
       "3371  87.252500  41.260010  93.205068  91.965545  17.603329   13.370528   \n",
       "3372  77.303629  20.130005  83.753297  89.580254  18.148490   14.326120   \n",
       "\n",
       "      macdhist        ADX          SMA     upper_bb    middel_bb     lower_bb  \n",
       "33    0.852026  48.206481    57.207240    70.315640    67.176659    64.037677  \n",
       "34    0.767408  49.234825    57.752695    70.409909    68.106270    65.802631  \n",
       "35    0.604875  50.189717    58.247839    70.079619    68.763290    67.446962  \n",
       "36    0.357731  49.795899    58.731195    70.258230    69.012505    67.766781  \n",
       "37    0.216246  49.258923    59.318825    70.241249    69.079338    67.917427  \n",
       "...        ...        ...          ...          ...          ...          ...  \n",
       "3368  1.430114  28.021263  1045.422998  1097.084741  1063.721412  1030.358084  \n",
       "3369  2.964054  29.836443  1047.680998  1110.603580  1072.298896  1033.994212  \n",
       "3370  3.967490  31.751692  1050.046997  1112.133026  1082.181280  1052.229534  \n",
       "3371  4.232801  33.484206  1052.235331  1112.111141  1091.423017  1070.734892  \n",
       "3372  3.822369  34.480174  1053.848665  1113.459453  1098.488760  1083.518067  \n",
       "\n",
       "[3340 rows x 18 columns]"
      ],
      "text/html": "<div>\n<style scoped>\n    .dataframe tbody tr th:only-of-type {\n        vertical-align: middle;\n    }\n\n    .dataframe tbody tr th {\n        vertical-align: top;\n    }\n\n    .dataframe thead th {\n        text-align: right;\n    }\n</style>\n<table border=\"1\" class=\"dataframe\">\n  <thead>\n    <tr style=\"text-align: right;\">\n      <th></th>\n      <th>date</th>\n      <th>high</th>\n      <th>low</th>\n      <th>open</th>\n      <th>close</th>\n      <th>volume</th>\n      <th>RSI</th>\n      <th>MOM</th>\n      <th>slowk</th>\n      <th>slowd</th>\n      <th>macd</th>\n      <th>macdsignal</th>\n      <th>macdhist</th>\n      <th>ADX</th>\n      <th>SMA</th>\n      <th>upper_bb</th>\n      <th>middel_bb</th>\n      <th>lower_bb</th>\n    </tr>\n  </thead>\n  <tbody>\n    <tr>\n      <th>33</th>\n      <td>12697.0</td>\n      <td>68.966499</td>\n      <td>67.746071</td>\n      <td>68.518173</td>\n      <td>68.284058</td>\n      <td>13445007</td>\n      <td>80.315879</td>\n      <td>2.988800</td>\n      <td>90.925916</td>\n      <td>87.770443</td>\n      <td>4.352631</td>\n      <td>3.500605</td>\n      <td>0.852026</td>\n      <td>48.206481</td>\n      <td>57.207240</td>\n      <td>70.315640</td>\n      <td>67.176659</td>\n      <td>64.037677</td>\n    </tr>\n    <tr>\n      <th>34</th>\n      <td>12698.0</td>\n      <td>69.678825</td>\n      <td>68.020042</td>\n      <td>68.204353</td>\n      <td>69.165749</td>\n      <td>14182160</td>\n      <td>83.169395</td>\n      <td>4.607727</td>\n      <td>91.420462</td>\n      <td>91.189372</td>\n      <td>4.459865</td>\n      <td>3.692457</td>\n      <td>0.767408</td>\n      <td>49.234825</td>\n      <td>57.752695</td>\n      <td>70.409909</td>\n      <td>68.106270</td>\n      <td>65.802631</td>\n    </tr>\n    <tr>\n      <th>35</th>\n      <td>12699.0</td>\n      <td>69.579201</td>\n      <td>68.254166</td>\n      <td>69.100990</td>\n      <td>68.607841</td>\n      <td>11122133</td>\n      <td>74.614000</td>\n      <td>2.565384</td>\n      <td>82.473639</td>\n      <td>88.273339</td>\n      <td>4.448550</td>\n      <td>3.843675</td>\n      <td>0.604875</td>\n      <td>50.189717</td>\n      <td>58.247839</td>\n      <td>70.079619</td>\n      <td>68.763290</td>\n      <td>67.446962</td>\n    </tr>\n    <tr>\n      <th>36</th>\n      <td>12702.0</td>\n      <td>69.170731</td>\n      <td>66.675087</td>\n      <td>68.244202</td>\n      <td>67.377457</td>\n      <td>10521891</td>\n      <td>58.129902</td>\n      <td>0.099632</td>\n      <td>67.335623</td>\n      <td>80.409908</td>\n      <td>4.290839</td>\n      <td>3.933108</td>\n      <td>0.357731</td>\n      <td>49.795899</td>\n      <td>58.731195</td>\n      <td>70.258230</td>\n      <td>69.012505</td>\n      <td>67.766781</td>\n    </tr>\n    <tr>\n      <th>37</th>\n      <td>12703.0</td>\n      <td>68.548065</td>\n      <td>66.450928</td>\n      <td>66.968987</td>\n      <td>68.443459</td>\n      <td>11720969</td>\n      <td>66.213656</td>\n      <td>-0.483185</td>\n      <td>57.705333</td>\n      <td>69.171532</td>\n      <td>4.203415</td>\n      <td>3.987170</td>\n      <td>0.216246</td>\n      <td>49.258923</td>\n      <td>59.318825</td>\n      <td>70.241249</td>\n      <td>69.079338</td>\n      <td>67.917427</td>\n    </tr>\n    <tr>\n      <th>...</th>\n      <td>...</td>\n      <td>...</td>\n      <td>...</td>\n      <td>...</td>\n      <td>...</td>\n      <td>...</td>\n      <td>...</td>\n      <td>...</td>\n      <td>...</td>\n      <td>...</td>\n      <td>...</td>\n      <td>...</td>\n      <td>...</td>\n      <td>...</td>\n      <td>...</td>\n      <td>...</td>\n      <td>...</td>\n      <td>...</td>\n    </tr>\n    <tr>\n      <th>3368</th>\n      <td>17535.0</td>\n      <td>1093.569946</td>\n      <td>1084.001953</td>\n      <td>1088.000000</td>\n      <td>1086.400024</td>\n      <td>1004600</td>\n      <td>81.606064</td>\n      <td>37.030029</td>\n      <td>89.126916</td>\n      <td>63.467050</td>\n      <td>12.009556</td>\n      <td>10.579442</td>\n      <td>1.430114</td>\n      <td>28.021263</td>\n      <td>1045.422998</td>\n      <td>1097.084741</td>\n      <td>1063.721412</td>\n      <td>1030.358084</td>\n    </tr>\n    <tr>\n      <th>3369</th>\n      <td>17536.0</td>\n      <td>1104.250000</td>\n      <td>1092.000000</td>\n      <td>1094.000000</td>\n      <td>1102.229980</td>\n      <td>1279100</td>\n      <td>87.616769</td>\n      <td>54.089966</td>\n      <td>90.909168</td>\n      <td>81.174514</td>\n      <td>14.284510</td>\n      <td>11.320455</td>\n      <td>2.964054</td>\n      <td>29.836443</td>\n      <td>1047.680998</td>\n      <td>1110.603580</td>\n      <td>1072.298896</td>\n      <td>1033.994212</td>\n    </tr>\n    <tr>\n      <th>3370</th>\n      <td>17539.0</td>\n      <td>1111.270020</td>\n      <td>1101.619995</td>\n      <td>1102.229980</td>\n      <td>1106.939941</td>\n      <td>1047600</td>\n      <td>88.958668</td>\n      <td>60.539917</td>\n      <td>91.782399</td>\n      <td>90.606161</td>\n      <td>16.279818</td>\n      <td>12.312328</td>\n      <td>3.967490</td>\n      <td>31.751692</td>\n      <td>1050.046997</td>\n      <td>1112.133026</td>\n      <td>1082.181280</td>\n      <td>1052.229534</td>\n    </tr>\n    <tr>\n      <th>3371</th>\n      <td>17540.0</td>\n      <td>1110.569946</td>\n      <td>1101.230957</td>\n      <td>1109.400024</td>\n      <td>1106.260010</td>\n      <td>902500</td>\n      <td>87.252500</td>\n      <td>41.260010</td>\n      <td>93.205068</td>\n      <td>91.965545</td>\n      <td>17.603329</td>\n      <td>13.370528</td>\n      <td>4.232801</td>\n      <td>33.484206</td>\n      <td>1052.235331</td>\n      <td>1112.111141</td>\n      <td>1091.423017</td>\n      <td>1070.734892</td>\n    </tr>\n    <tr>\n      <th>3372</th>\n      <td>17541.0</td>\n      <td>1104.599976</td>\n      <td>1096.109985</td>\n      <td>1097.099976</td>\n      <td>1102.609985</td>\n      <td>1042800</td>\n      <td>77.303629</td>\n      <td>20.130005</td>\n      <td>83.753297</td>\n      <td>89.580254</td>\n      <td>18.148490</td>\n      <td>14.326120</td>\n      <td>3.822369</td>\n      <td>34.480174</td>\n      <td>1053.848665</td>\n      <td>1113.459453</td>\n      <td>1098.488760</td>\n      <td>1083.518067</td>\n    </tr>\n  </tbody>\n</table>\n<p>3340 rows × 18 columns</p>\n</div>"
     },
     "metadata": {},
     "execution_count": 32
    }
   ],
   "source": [
    "train_X"
   ]
  },
  {
   "cell_type": "code",
   "execution_count": 33,
   "metadata": {},
   "outputs": [
    {
     "output_type": "execute_result",
     "data": {
      "text/plain": [
       "33      1\n",
       "34      1\n",
       "35      1\n",
       "36      1\n",
       "37      1\n",
       "       ..\n",
       "3368    1\n",
       "3369    1\n",
       "3370    1\n",
       "3371    1\n",
       "3372    1\n",
       "Name: next_5day_trend, Length: 3340, dtype: int64"
      ]
     },
     "metadata": {},
     "execution_count": 33
    }
   ],
   "source": [
    "train_y"
   ]
  },
  {
   "cell_type": "code",
   "execution_count": 34,
   "metadata": {},
   "outputs": [],
   "source": [
    "train_x_2 = train_X.copy()\n",
    "\n",
    "train_y_2 = train_y.copy()\n",
    "\n",
    "test_x_2 = test_X.copy()\n",
    "\n",
    "test_y_2 = test_y.copy()"
   ]
  },
  {
   "cell_type": "code",
   "execution_count": 45,
   "metadata": {},
   "outputs": [],
   "source": [
    "df2 = df.copy()\n",
    "\n"
   ]
  },
  {
   "cell_type": "code",
   "execution_count": 37,
   "metadata": {},
   "outputs": [],
   "source": [
    "# Helper Functions\n",
    "# In order to print all performance metrics relevant to a regression task (such as MAE and R-square), we will be defining the regression_results function.\n",
    "\n",
    "import sklearn.metrics as metrics\n",
    "def regression_results(y_true, y_pred):\n",
    "    # Regression metrics\n",
    "    explained_variance=metrics.explained_variance_score(y_true, y_pred)\n",
    "    mean_absolute_error=metrics.mean_absolute_error(y_true, y_pred) \n",
    "    mse=metrics.mean_squared_error(y_true, y_pred) \n",
    "    mean_squared_log_error=metrics.mean_squared_log_error(y_true, y_pred)\n",
    "    median_absolute_error=metrics.median_absolute_error(y_true, y_pred)\n",
    "    r2=metrics.r2_score(y_true, y_pred)\n",
    "    print('explained_variance: ', round(explained_variance,4))    \n",
    "    print('mean_squared_log_error: ', round(mean_squared_log_error,4))\n",
    "    print('r2: ', round(r2,4))\n",
    "    print('MAE: ', round(mean_absolute_error,4))\n",
    "    print('MSE: ', round(mse,4))\n",
    "    print('RMSE: ', round(np.sqrt(mse),4))"
   ]
  },
  {
   "cell_type": "code",
   "execution_count": 48,
   "metadata": {},
   "outputs": [],
   "source": [
    "# use the difference between today and today - 1, today - 1 and today - 2, ... today - 4 and today - 5\n",
    "\n",
    "df3 = pd.DataFrame()\n",
    "\n",
    "for columnName in df2.columns:\n",
    "    if columnName != \"date\" and columnName != \"next_5day_trend\":\n",
    "        column = df2[[columnName]]\n",
    "\n",
    "        df3.loc[:,'shift1' + columnName] = df2.loc[:,columnName].shift() - df2.loc[:,columnName]\n",
    "\n",
    "        df3.loc[:,'shift2' + columnName] = df2.loc[:,columnName].shift().shift() - df2.loc[:,columnName].shift()\n",
    "\n",
    "        df3.loc[:,'shift3' + columnName] = df2.loc[:,columnName].shift().shift().shift() - df2.loc[:,columnName].shift().shift()\n",
    "\n",
    "        df3.loc[:,'shift4' + columnName] = df2.loc[:,columnName].shift().shift().shift().shift() - df2.loc[:,columnName].shift().shift().shift()\n",
    "\n",
    "        df3.loc[:,'shift5' + columnName] = df2.loc[:,columnName].shift().shift().shift().shift().shift() - df2.loc[:,columnName].shift().shift().shift().shift()\n",
    "\n",
    "\n",
    "#add date and drop na\n",
    "df3[\"date\"] = df2[\"date\"]\n",
    "df3 = df3.dropna()\n",
    "\n"
   ]
  },
  {
   "cell_type": "code",
   "execution_count": 49,
   "metadata": {},
   "outputs": [
    {
     "output_type": "execute_result",
     "data": {
      "text/plain": [
       "    shift1high  shift2high  shift3high  shift4high  shift5high  shift1low  \\\n",
       "38   -2.958908    0.622665    0.408470    0.099625   -0.712326  -3.327522   \n",
       "39    0.582817   -2.958908    0.622665    0.408470    0.099625   0.757156   \n",
       "40   -1.554176    0.582817   -2.958908    0.622665    0.408470  -1.688667   \n",
       "41   -1.843094   -1.554176    0.582817   -2.958908    0.622665   0.368614   \n",
       "42   -1.594025   -1.843094   -1.554176    0.582817   -2.958908  -3.058533   \n",
       "\n",
       "    shift2low  shift3low  shift4low  shift5low  ...  shift2middel_bb  \\\n",
       "38   0.224159   1.579079  -0.234123  -0.273972  ...        -0.066833   \n",
       "39  -3.327522   0.224159   1.579079  -0.234123  ...        -0.186393   \n",
       "40   0.757156  -3.327522   0.224159   1.579079  ...        -0.349850   \n",
       "41  -1.688667   0.757156  -3.327522   0.224159  ...        -0.533776   \n",
       "42   0.368614  -1.688667   0.757156  -3.327522  ...        -0.878460   \n",
       "\n",
       "    shift3middel_bb  shift4middel_bb  shift5middel_bb  shift1lower_bb  \\\n",
       "38        -0.249215        -0.657020        -0.929611        0.492444   \n",
       "39        -0.066833        -0.249215        -0.657020        0.257283   \n",
       "40        -0.186393        -0.066833        -0.249215        0.197283   \n",
       "41        -0.349850        -0.186393        -0.066833       -0.185049   \n",
       "42        -0.533776        -0.349850        -0.186393       -1.592575   \n",
       "\n",
       "    shift2lower_bb  shift3lower_bb  shift4lower_bb  shift5lower_bb     date  \n",
       "38       -0.150647       -0.319819       -1.644331       -1.764954  12704.0  \n",
       "39        0.492444       -0.150647       -0.319819       -1.644331  12705.0  \n",
       "40        0.257283        0.492444       -0.150647       -0.319819  12706.0  \n",
       "41        0.197283        0.257283        0.492444       -0.150647  12709.0  \n",
       "42       -0.185049        0.197283        0.257283        0.492444  12710.0  \n",
       "\n",
       "[5 rows x 86 columns]"
      ],
      "text/html": "<div>\n<style scoped>\n    .dataframe tbody tr th:only-of-type {\n        vertical-align: middle;\n    }\n\n    .dataframe tbody tr th {\n        vertical-align: top;\n    }\n\n    .dataframe thead th {\n        text-align: right;\n    }\n</style>\n<table border=\"1\" class=\"dataframe\">\n  <thead>\n    <tr style=\"text-align: right;\">\n      <th></th>\n      <th>shift1high</th>\n      <th>shift2high</th>\n      <th>shift3high</th>\n      <th>shift4high</th>\n      <th>shift5high</th>\n      <th>shift1low</th>\n      <th>shift2low</th>\n      <th>shift3low</th>\n      <th>shift4low</th>\n      <th>shift5low</th>\n      <th>...</th>\n      <th>shift2middel_bb</th>\n      <th>shift3middel_bb</th>\n      <th>shift4middel_bb</th>\n      <th>shift5middel_bb</th>\n      <th>shift1lower_bb</th>\n      <th>shift2lower_bb</th>\n      <th>shift3lower_bb</th>\n      <th>shift4lower_bb</th>\n      <th>shift5lower_bb</th>\n      <th>date</th>\n    </tr>\n  </thead>\n  <tbody>\n    <tr>\n      <th>38</th>\n      <td>-2.958908</td>\n      <td>0.622665</td>\n      <td>0.408470</td>\n      <td>0.099625</td>\n      <td>-0.712326</td>\n      <td>-3.327522</td>\n      <td>0.224159</td>\n      <td>1.579079</td>\n      <td>-0.234123</td>\n      <td>-0.273972</td>\n      <td>...</td>\n      <td>-0.066833</td>\n      <td>-0.249215</td>\n      <td>-0.657020</td>\n      <td>-0.929611</td>\n      <td>0.492444</td>\n      <td>-0.150647</td>\n      <td>-0.319819</td>\n      <td>-1.644331</td>\n      <td>-1.764954</td>\n      <td>12704.0</td>\n    </tr>\n    <tr>\n      <th>39</th>\n      <td>0.582817</td>\n      <td>-2.958908</td>\n      <td>0.622665</td>\n      <td>0.408470</td>\n      <td>0.099625</td>\n      <td>0.757156</td>\n      <td>-3.327522</td>\n      <td>0.224159</td>\n      <td>1.579079</td>\n      <td>-0.234123</td>\n      <td>...</td>\n      <td>-0.186393</td>\n      <td>-0.066833</td>\n      <td>-0.249215</td>\n      <td>-0.657020</td>\n      <td>0.257283</td>\n      <td>0.492444</td>\n      <td>-0.150647</td>\n      <td>-0.319819</td>\n      <td>-1.644331</td>\n      <td>12705.0</td>\n    </tr>\n    <tr>\n      <th>40</th>\n      <td>-1.554176</td>\n      <td>0.582817</td>\n      <td>-2.958908</td>\n      <td>0.622665</td>\n      <td>0.408470</td>\n      <td>-1.688667</td>\n      <td>0.757156</td>\n      <td>-3.327522</td>\n      <td>0.224159</td>\n      <td>1.579079</td>\n      <td>...</td>\n      <td>-0.349850</td>\n      <td>-0.186393</td>\n      <td>-0.066833</td>\n      <td>-0.249215</td>\n      <td>0.197283</td>\n      <td>0.257283</td>\n      <td>0.492444</td>\n      <td>-0.150647</td>\n      <td>-0.319819</td>\n      <td>12706.0</td>\n    </tr>\n    <tr>\n      <th>41</th>\n      <td>-1.843094</td>\n      <td>-1.554176</td>\n      <td>0.582817</td>\n      <td>-2.958908</td>\n      <td>0.622665</td>\n      <td>0.368614</td>\n      <td>-1.688667</td>\n      <td>0.757156</td>\n      <td>-3.327522</td>\n      <td>0.224159</td>\n      <td>...</td>\n      <td>-0.533776</td>\n      <td>-0.349850</td>\n      <td>-0.186393</td>\n      <td>-0.066833</td>\n      <td>-0.185049</td>\n      <td>0.197283</td>\n      <td>0.257283</td>\n      <td>0.492444</td>\n      <td>-0.150647</td>\n      <td>12709.0</td>\n    </tr>\n    <tr>\n      <th>42</th>\n      <td>-1.594025</td>\n      <td>-1.843094</td>\n      <td>-1.554176</td>\n      <td>0.582817</td>\n      <td>-2.958908</td>\n      <td>-3.058533</td>\n      <td>0.368614</td>\n      <td>-1.688667</td>\n      <td>0.757156</td>\n      <td>-3.327522</td>\n      <td>...</td>\n      <td>-0.878460</td>\n      <td>-0.533776</td>\n      <td>-0.349850</td>\n      <td>-0.186393</td>\n      <td>-1.592575</td>\n      <td>-0.185049</td>\n      <td>0.197283</td>\n      <td>0.257283</td>\n      <td>0.492444</td>\n      <td>12710.0</td>\n    </tr>\n  </tbody>\n</table>\n<p>5 rows × 86 columns</p>\n</div>"
     },
     "metadata": {},
     "execution_count": 49
    }
   ],
   "source": [
    "df3.head()"
   ]
  },
  {
   "cell_type": "code",
   "execution_count": null,
   "metadata": {},
   "outputs": [],
   "source": []
  }
 ],
 "metadata": {
  "kernelspec": {
   "name": "python3",
   "display_name": "Python 3.9.1 64-bit"
  },
  "language_info": {
   "codemirror_mode": {
    "name": "ipython",
    "version": 3
   },
   "file_extension": ".py",
   "mimetype": "text/x-python",
   "name": "python",
   "nbconvert_exporter": "python",
   "pygments_lexer": "ipython3",
   "version": "3.9.1"
  }
 },
 "nbformat": 4,
 "nbformat_minor": 5
}